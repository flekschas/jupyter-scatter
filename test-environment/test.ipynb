{
 "cells": [
  {
   "cell_type": "code",
   "execution_count": null,
   "id": "religious-behavior",
   "metadata": {},
   "outputs": [],
   "source": [
    "import ipywidgets as widgets\n",
    "import numpy as np\n",
    "import jscatter\n",
    "\n",
    "jscatter.plot(np.random.rand(500, 2)).show()"
   ]
  },
  {
   "cell_type": "code",
   "execution_count": null,
   "id": "environmental-dragon",
   "metadata": {},
   "outputs": [],
   "source": []
  }
 ],
 "metadata": {
  "kernelspec": {
   "display_name": "Python 3",
   "language": "python",
   "name": "python3"
  },
  "language_info": {
   "codemirror_mode": {
    "name": "ipython",
    "version": 3
   },
   "file_extension": ".py",
   "mimetype": "text/x-python",
   "name": "python",
   "nbconvert_exporter": "python",
   "pygments_lexer": "ipython3",
   "version": "3.9.1"
  }
 },
 "nbformat": 4,
 "nbformat_minor": 5
}
