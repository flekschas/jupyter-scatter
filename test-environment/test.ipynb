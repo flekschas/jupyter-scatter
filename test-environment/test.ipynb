{
 "cells": [
  {
   "cell_type": "code",
   "execution_count": 1,
   "id": "future-volleyball",
   "metadata": {},
   "outputs": [
    {
     "data": {
      "text/html": [
       "<div>\n",
       "<style scoped>\n",
       "    .dataframe tbody tr th:only-of-type {\n",
       "        vertical-align: middle;\n",
       "    }\n",
       "\n",
       "    .dataframe tbody tr th {\n",
       "        vertical-align: top;\n",
       "    }\n",
       "\n",
       "    .dataframe thead th {\n",
       "        text-align: right;\n",
       "    }\n",
       "</style>\n",
       "<table border=\"1\" class=\"dataframe\">\n",
       "  <thead>\n",
       "    <tr style=\"text-align: right;\">\n",
       "      <th></th>\n",
       "      <th>mass</th>\n",
       "      <th>speed</th>\n",
       "      <th>pval</th>\n",
       "      <th>group</th>\n",
       "    </tr>\n",
       "  </thead>\n",
       "  <tbody>\n",
       "    <tr>\n",
       "      <th>0</th>\n",
       "      <td>0.632483</td>\n",
       "      <td>0.815640</td>\n",
       "      <td>0.567393</td>\n",
       "      <td>F</td>\n",
       "    </tr>\n",
       "    <tr>\n",
       "      <th>1</th>\n",
       "      <td>0.270511</td>\n",
       "      <td>0.819775</td>\n",
       "      <td>0.248876</td>\n",
       "      <td>C</td>\n",
       "    </tr>\n",
       "    <tr>\n",
       "      <th>2</th>\n",
       "      <td>0.825015</td>\n",
       "      <td>0.393512</td>\n",
       "      <td>0.594941</td>\n",
       "      <td>G</td>\n",
       "    </tr>\n",
       "    <tr>\n",
       "      <th>3</th>\n",
       "      <td>0.199336</td>\n",
       "      <td>0.098515</td>\n",
       "      <td>0.011434</td>\n",
       "      <td>F</td>\n",
       "    </tr>\n",
       "    <tr>\n",
       "      <th>4</th>\n",
       "      <td>0.954538</td>\n",
       "      <td>0.016306</td>\n",
       "      <td>0.990835</td>\n",
       "      <td>D</td>\n",
       "    </tr>\n",
       "  </tbody>\n",
       "</table>\n",
       "</div>"
      ],
      "text/plain": [
       "       mass     speed      pval group\n",
       "0  0.632483  0.815640  0.567393     F\n",
       "1  0.270511  0.819775  0.248876     C\n",
       "2  0.825015  0.393512  0.594941     G\n",
       "3  0.199336  0.098515  0.011434     F\n",
       "4  0.954538  0.016306  0.990835     D"
      ]
     },
     "execution_count": 1,
     "metadata": {},
     "output_type": "execute_result"
    }
   ],
   "source": [
    "import ipywidgets as widgets\n",
    "import numpy as np\n",
    "import pandas as pd\n",
    "\n",
    "# Just some random float and int values\n",
    "data = np.random.rand(500, 4)\n",
    "data[:,3] = np.round(data[:,3] * 7).astype(int)\n",
    "\n",
    "df = pd.DataFrame(data, columns=['mass', 'speed', 'pval', 'group'])\n",
    "\n",
    "# We'll convert the group column to categorical data for later use\n",
    "df['group'] = df['group'].astype('int').astype('category').map(lambda c: chr(65 + c), na_action=None)\n",
    "df.head()"
   ]
  },
  {
   "cell_type": "code",
   "execution_count": 2,
   "id": "australian-somewhere",
   "metadata": {},
   "outputs": [
    {
     "data": {
      "application/vnd.jupyter.widget-view+json": {
       "model_id": "f62eea8d99b64cfa90a9454680945c66",
       "version_major": 2,
       "version_minor": 0
      },
      "text/plain": [
       "HBox(children=(VBox(children=(Button(button_style='primary', icon='arrows', layout=Layout(width='36px'), style…"
      ]
     },
     "metadata": {},
     "output_type": "display_data"
    }
   ],
   "source": [
    "import jscatter\n",
    "\n",
    "jscatter.plot(data=df, x='mass', y='speed')"
   ]
  },
  {
   "cell_type": "code",
   "execution_count": null,
   "id": "technical-patrick",
   "metadata": {},
   "outputs": [],
   "source": []
  }
 ],
 "metadata": {
  "kernelspec": {
   "display_name": "Python 3",
   "language": "python",
   "name": "python3"
  },
  "language_info": {
   "codemirror_mode": {
    "name": "ipython",
    "version": 3
   },
   "file_extension": ".py",
   "mimetype": "text/x-python",
   "name": "python",
   "nbconvert_exporter": "python",
   "pygments_lexer": "ipython3",
   "version": "3.9.1"
  }
 },
 "nbformat": 4,
 "nbformat_minor": 5
}
