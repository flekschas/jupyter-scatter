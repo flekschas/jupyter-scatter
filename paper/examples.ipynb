{
 "cells": [
  {
   "cell_type": "markdown",
   "id": "ec73f233-b8a4-4af9-a564-02ad7df8192c",
   "metadata": {
    "tags": []
   },
   "source": [
    "# Examples"
   ]
  },
  {
   "cell_type": "code",
   "execution_count": null,
   "id": "b6056c54-7f65-4cb8-bad3-6b4d1ab15f99",
   "metadata": {
    "tags": []
   },
   "outputs": [],
   "source": [
    "%load_ext autoreload\n",
    "%autoreload 2"
   ]
  },
  {
   "cell_type": "markdown",
   "id": "f70bf776-f040-4c5a-b528-422a50ff1b11",
   "metadata": {},
   "source": [
    "### GeoNames City Dataset"
   ]
  },
  {
   "cell_type": "code",
   "execution_count": null,
   "id": "9124535f-2aba-44c3-9d8b-3337e4585ef6",
   "metadata": {
    "tags": []
   },
   "outputs": [],
   "source": [
    "import pandas as pd\n",
    "geonames = pd.read_parquet('https://paper.jupyter-scatter.dev/geonames.pq')\n",
    "geonames.head(2)"
   ]
  },
  {
   "cell_type": "code",
   "execution_count": null,
   "id": "d7bf9605-1a0c-4341-8630-91c611e0c024",
   "metadata": {
    "tags": []
   },
   "outputs": [],
   "source": [
    "import jscatter\n",
    "\n",
    "scatter = jscatter.Scatter(\n",
    "    data=geonames,\n",
    "    x='Longitude',\n",
    "    y='Latitude',\n",
    "    color_by='Continent',\n",
    "    width=600,\n",
    "    height=600\n",
    ")\n",
    "scatter.show()"
   ]
  },
  {
   "cell_type": "code",
   "execution_count": null,
   "id": "000dd0f7-6cd8-4abb-8759-c82048037d54",
   "metadata": {
    "tags": []
   },
   "outputs": [],
   "source": [
    "import matplotlib\n",
    "\n",
    "scatter.opacity(0.5)\n",
    "scatter.size(by='Population', map=(1, 8, 10), norm=matplotlib.colors.AsinhNorm())\n",
    "scatter.color(by='Population', map='magma', norm=matplotlib.colors.LogNorm(), order='reverse')"
   ]
  },
  {
   "cell_type": "code",
   "execution_count": null,
   "id": "dc73e4ce-b063-46d9-bfc6-81b504cf9675",
   "metadata": {
    "tags": []
   },
   "outputs": [],
   "source": [
    "scatter.legend(True)\n",
    "scatter.axes(True, labels=True)\n",
    "scatter.tooltip(True, properties=['color', 'Latitude', 'Country'], preview='Name')"
   ]
  },
  {
   "cell_type": "code",
   "execution_count": null,
   "id": "a5380bed-51ed-4b33-aed7-fae1bd4e808f",
   "metadata": {
    "tags": []
   },
   "outputs": [],
   "source": [
    "scatter.xy(x='Mercator X', y='Mercator Y')"
   ]
  },
  {
   "cell_type": "code",
   "execution_count": null,
   "id": "945c66e5-4ad1-4bb1-94fc-f1326155b5e0",
   "metadata": {
    "tags": []
   },
   "outputs": [],
   "source": [
    "scatter.selection(geonames.query('Population > 10_000_000').index)"
   ]
  },
  {
   "cell_type": "code",
   "execution_count": null,
   "id": "aee62f63-b9de-4ec6-93e4-5c399b6c54c4",
   "metadata": {
    "tags": []
   },
   "outputs": [],
   "source": [
    "geonames.iloc[scatter.selection()]"
   ]
  },
  {
   "cell_type": "markdown",
   "id": "c2748d59-106c-43bb-a7cb-fc3cc8a0a474",
   "metadata": {
    "tags": []
   },
   "source": [
    "### Fashion MNIST Embeddings"
   ]
  },
  {
   "cell_type": "code",
   "execution_count": null,
   "id": "0009c368-933b-4dcb-9e32-d35a5a596e53",
   "metadata": {
    "tags": []
   },
   "outputs": [],
   "source": [
    "import pandas as pd\n",
    "fashion_mnist = pd.read_parquet('https://paper.jupyter-scatter.dev/fashion-mnist-embeddings.pq')"
   ]
  },
  {
   "cell_type": "code",
   "execution_count": null,
   "id": "a16e1edd-1408-422b-aeb5-1ba0912f613d",
   "metadata": {
    "tags": []
   },
   "outputs": [],
   "source": [
    "import anywidget\n",
    "import traitlets\n",
    "import traittypes\n",
    "\n",
    "class ImagesWidget(anywidget.AnyWidget):\n",
    "    _esm = \"\"\"\n",
    "    const baseUrl = 'https://paper.jupyter-scatter.dev/fashion-mnist-images/';\n",
    "    export function render({ model, el }) {\n",
    "      const container = document.createElement('div');\n",
    "      container.classList.add('images-container');\n",
    "      el.appendChild(container);\n",
    "\n",
    "      const grid = document.createElement('div');\n",
    "      grid.classList.add('images-grid');\n",
    "      container.appendChild(grid);\n",
    "\n",
    "      function renderImages() {\n",
    "        grid.textContent = '';\n",
    "        \n",
    "        model.get('images').forEach((image) => {\n",
    "          const imgId = String(image).padStart(5, '0');\n",
    "        \n",
    "          const img = document.createElement('div');\n",
    "          img.classList.add('images-fashion-mnist');\n",
    "          img.style.backgroundImage = `url(${baseUrl}${imgId}.png)`;\n",
    "        \n",
    "          grid.appendChild(img);\n",
    "        });\n",
    "      }\n",
    "\n",
    "      model.on(\"change:images\", renderImages);\n",
    "      \n",
    "      renderImages();\n",
    "    }\n",
    "    \"\"\"\n",
    "\n",
    "    _css = \"\"\"\n",
    "    .images-container {\n",
    "      position: absolute;\n",
    "      inset: 0;\n",
    "      overflow: auto;\n",
    "      background: black;\n",
    "    }\n",
    "    \n",
    "    .images-grid {\n",
    "      display: grid;\n",
    "      grid-template-columns: repeat(auto-fit, minmax(32px, 1fr));\n",
    "      align-content: flex-start;\n",
    "      gap: 8px;\n",
    "    }\n",
    "    \n",
    "    .images-fashion-mnist {\n",
    "      width: 32px;\n",
    "      height: 32px;\n",
    "      background-repeat: no-repeat;\n",
    "      background-position: center;\n",
    "    }\n",
    "    \"\"\"\n",
    "\n",
    "    images = traittypes.Array(default_value=[]).tag(sync=True)"
   ]
  },
  {
   "cell_type": "code",
   "execution_count": null,
   "id": "07c93134-e1fe-4073-99c3-01c4a85ed17c",
   "metadata": {
    "tags": []
   },
   "outputs": [],
   "source": [
    "import ipywidgets\n",
    "import jscatter\n",
    "\n",
    "images = ImagesWidget()\n",
    "\n",
    "scatter = jscatter.Scatter(\n",
    "    data=fashion_mnist,\n",
    "    x='umapX',\n",
    "    y='umapY',\n",
    "    color_by='class',\n",
    "    background_color='black',\n",
    ")\n",
    "\n",
    "ipywidgets.link((scatter.widget, 'selection'), (images, 'images'))\n",
    "\n",
    "ipywidgets.AppLayout(center=scatter.show(), right_sidebar=images)"
   ]
  },
  {
   "cell_type": "code",
   "execution_count": null,
   "id": "666e30f7-f6f2-4153-a0fd-a21c558be727",
   "metadata": {},
   "outputs": [],
   "source": [
    "config = dict(\n",
    "    data=fashion_mnist,\n",
    "    background_color='#111111',\n",
    "    color_by='class',\n",
    "    legend=True,\n",
    "    axes=False,\n",
    "    zoom_on_selection=True,\n",
    ")\n",
    "\n",
    "pca = jscatter.Scatter(x='pcaX', y='pcaY', **config)\n",
    "tsne = jscatter.Scatter(x='tsneX', y='tsneY', **config)\n",
    "umap = jscatter.Scatter(x='umapX', y='umapY', **config)\n",
    "cae = jscatter.Scatter(x='caeX', y='caeY', **config)\n",
    "\n",
    "jscatter.compose(\n",
    "    [(pca, \"PCA\"), (tsne, \"t-SNE\"), (umap, \"UMAP\"), (cae, \"CAE\")],\n",
    "    sync_selection=True,\n",
    "    sync_hover=True,\n",
    "    rows=2,\n",
    ")"
   ]
  },
  {
   "cell_type": "code",
   "execution_count": null,
   "id": "1d00c201-4fd5-4493-9ffa-be3f987dd05a",
   "metadata": {},
   "outputs": [],
   "source": []
  }
 ],
 "metadata": {
  "kernelspec": {
   "display_name": "Python 3 (ipykernel)",
   "language": "python",
   "name": "python3"
  },
  "language_info": {
   "codemirror_mode": {
    "name": "ipython",
    "version": 3
   },
   "file_extension": ".py",
   "mimetype": "text/x-python",
   "name": "python",
   "nbconvert_exporter": "python",
   "pygments_lexer": "ipython3",
   "version": "3.10.9"
  }
 },
 "nbformat": 4,
 "nbformat_minor": 5
}
