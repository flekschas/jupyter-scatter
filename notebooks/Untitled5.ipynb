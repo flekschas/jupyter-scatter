{
 "cells": [
  {
   "cell_type": "code",
   "execution_count": 1,
   "id": "9ef7a845-ac9c-4bdc-918e-7fca6b854cce",
   "metadata": {},
   "outputs": [
    {
     "name": "stdout",
     "output_type": "stream",
     "text": [
      "env: ANYWIDGET_HMR=1\n"
     ]
    }
   ],
   "source": [
    "%load_ext autoreload\n",
    "%autoreload 2\n",
    "%env ANYWIDGET_HMR=1"
   ]
  },
  {
   "cell_type": "code",
   "execution_count": 2,
   "id": "bfde7663-2bf1-4735-a9c6-8e6b0bfecce0",
   "metadata": {},
   "outputs": [
    {
     "name": "stdout",
     "output_type": "stream",
     "text": [
      "  % Total    % Received % Xferd  Average Speed   Time    Time     Time  Current\n",
      "                                 Dload  Upload   Total   Spent    Left  Speed\n",
      "100 23.1M  100 23.1M    0     0  12.9M      0  0:00:01  0:00:01 --:--:-- 12.9M  0:00:15 1577k\n"
     ]
    }
   ],
   "source": [
    "!mkdir -p data\n",
    "!curl -L -C - -o data/huffpost-embeddings.pq https://storage.googleapis.com/flekschas/jupyter-scatter-tutorial/huffpost-embeddings.pq"
   ]
  },
  {
   "cell_type": "code",
   "execution_count": 3,
   "id": "db0e62f7-59a9-4497-9d57-999273082fee",
   "metadata": {},
   "outputs": [
    {
     "data": {
      "text/html": [
       "<div>\n",
       "<style scoped>\n",
       "    .dataframe tbody tr th:only-of-type {\n",
       "        vertical-align: middle;\n",
       "    }\n",
       "\n",
       "    .dataframe tbody tr th {\n",
       "        vertical-align: top;\n",
       "    }\n",
       "\n",
       "    .dataframe thead th {\n",
       "        text-align: right;\n",
       "    }\n",
       "</style>\n",
       "<table border=\"1\" class=\"dataframe\">\n",
       "  <thead>\n",
       "    <tr style=\"text-align: right;\">\n",
       "      <th></th>\n",
       "      <th>link</th>\n",
       "      <th>headline</th>\n",
       "      <th>category</th>\n",
       "      <th>short_description</th>\n",
       "      <th>date</th>\n",
       "      <th>year</th>\n",
       "      <th>month</th>\n",
       "      <th>season</th>\n",
       "      <th>x</th>\n",
       "      <th>y</th>\n",
       "      <th>length</th>\n",
       "      <th>length_clr</th>\n",
       "    </tr>\n",
       "  </thead>\n",
       "  <tbody>\n",
       "    <tr>\n",
       "      <th>0</th>\n",
       "      <td>https://www.huffpost.com/entry/covid-boosters-...</td>\n",
       "      <td>Over 4 Million Americans Roll Up Sleeves For O...</td>\n",
       "      <td>U.S. NEWS</td>\n",
       "      <td>Health experts said it is too early to predict...</td>\n",
       "      <td>2022-09-23</td>\n",
       "      <td>2022</td>\n",
       "      <td>September</td>\n",
       "      <td>Fall</td>\n",
       "      <td>3.873639</td>\n",
       "      <td>0.846710</td>\n",
       "      <td>76</td>\n",
       "      <td>0.318783</td>\n",
       "    </tr>\n",
       "    <tr>\n",
       "      <th>1</th>\n",
       "      <td>https://www.huffpost.com/entry/american-airlin...</td>\n",
       "      <td>American Airlines Flyer Charged, Banned For Li...</td>\n",
       "      <td>U.S. NEWS</td>\n",
       "      <td>He was subdued by passengers and crew when he ...</td>\n",
       "      <td>2022-09-23</td>\n",
       "      <td>2022</td>\n",
       "      <td>September</td>\n",
       "      <td>Fall</td>\n",
       "      <td>3.672992</td>\n",
       "      <td>4.065663</td>\n",
       "      <td>89</td>\n",
       "      <td>0.476686</td>\n",
       "    </tr>\n",
       "    <tr>\n",
       "      <th>2</th>\n",
       "      <td>https://www.huffpost.com/entry/funniest-tweets...</td>\n",
       "      <td>23 Of The Funniest Tweets About Cats And Dogs ...</td>\n",
       "      <td>COMEDY</td>\n",
       "      <td>\"Until you have a dog you don't understand wha...</td>\n",
       "      <td>2022-09-23</td>\n",
       "      <td>2022</td>\n",
       "      <td>September</td>\n",
       "      <td>Fall</td>\n",
       "      <td>7.427926</td>\n",
       "      <td>5.442265</td>\n",
       "      <td>69</td>\n",
       "      <td>0.222156</td>\n",
       "    </tr>\n",
       "  </tbody>\n",
       "</table>\n",
       "</div>"
      ],
      "text/plain": [
       "                                                link  \\\n",
       "0  https://www.huffpost.com/entry/covid-boosters-...   \n",
       "1  https://www.huffpost.com/entry/american-airlin...   \n",
       "2  https://www.huffpost.com/entry/funniest-tweets...   \n",
       "\n",
       "                                            headline   category  \\\n",
       "0  Over 4 Million Americans Roll Up Sleeves For O...  U.S. NEWS   \n",
       "1  American Airlines Flyer Charged, Banned For Li...  U.S. NEWS   \n",
       "2  23 Of The Funniest Tweets About Cats And Dogs ...     COMEDY   \n",
       "\n",
       "                                   short_description        date  year  \\\n",
       "0  Health experts said it is too early to predict...  2022-09-23  2022   \n",
       "1  He was subdued by passengers and crew when he ...  2022-09-23  2022   \n",
       "2  \"Until you have a dog you don't understand wha...  2022-09-23  2022   \n",
       "\n",
       "       month season         x         y  length  length_clr  \n",
       "0  September   Fall  3.873639  0.846710      76    0.318783  \n",
       "1  September   Fall  3.672992  4.065663      89    0.476686  \n",
       "2  September   Fall  7.427926  5.442265      69    0.222156  "
      ]
     },
     "execution_count": 3,
     "metadata": {},
     "output_type": "execute_result"
    }
   ],
   "source": [
    "import numpy as np\n",
    "import pandas as pd\n",
    "\n",
    "huffpost_embeddings = pd.read_parquet('data/huffpost-embeddings.pq')\n",
    "huffpost_embeddings.year = huffpost_embeddings.year.astype('category')\n",
    "huffpost_embeddings['length_clr'] = np.log(\n",
    "    huffpost_embeddings.length.values\n",
    "    / np.exp(np.mean(np.log(huffpost_embeddings.length.values)))\n",
    ")\n",
    "huffpost_embeddings.head(3)"
   ]
  },
  {
   "cell_type": "code",
   "execution_count": 10,
   "id": "29a87d94-a5c2-4eaf-bcfa-380a8646ddb9",
   "metadata": {},
   "outputs": [],
   "source": [
    "from jscatter import glasbey_dark\n",
    "\n",
    "category_cmap = {\n",
    "    cat: glasbey_dark[i]\n",
    "    for i, cat in enumerate(sorted(huffpost_embeddings.category.unique()))\n",
    "}\n",
    "month_cmap = {\n",
    "    'January': '#3C33FF',\n",
    "    'February': '#4587E8',\n",
    "    'March': '#6FCFF1',\n",
    "    'April': '#40E52C',\n",
    "    'May': '#9CFA0B',\n",
    "    'June': '#B7F113',\n",
    "    'July': '#FFFF34',\n",
    "    'August': '#FCD66F',\n",
    "    'September': '#FFAEBC',\n",
    "    'October': '#FF5DFF',\n",
    "    'November': '#C75DFF',\n",
    "    'December': '#AD7EFF',\n",
    "}\n",
    "season_cmap = {\n",
    "    'Spring': '#9CFA0B',\n",
    "    'Summer': '#FFFF34',\n",
    "    'Fall': '#FF5DFF',\n",
    "    'Winter': '#3C33FF',\n",
    "}\n",
    "year_cmap = {\n",
    "    '2012': '#ffffe0',\n",
    "    '2013': '#ffefc1',\n",
    "    '2014': '#ffdfa8',\n",
    "    '2015': '#ffcc92',\n",
    "    '2016': '#ffba81',\n",
    "    '2017': '#ffa875',\n",
    "    '2018': '#ff926c',\n",
    "    '2019': '#ff7d65',\n",
    "    '2020': '#ff635e',\n",
    "    '2021': '#ff4251',\n",
    "    '2022': '#ff0000',\n",
    "}\n",
    "\n",
    "huffpost_scatter_config = dict(x='x', y='y', axes=False, background_color='#ffffff')"
   ]
  },
  {
   "cell_type": "code",
   "execution_count": 11,
   "id": "06abfdbe-d032-4222-b336-e4b5bf2a7ea9",
   "metadata": {},
   "outputs": [
    {
     "data": {
      "application/vnd.jupyter.widget-view+json": {
       "model_id": "376d0f291ad4429fb640f5bec1d56dfa",
       "version_major": 2,
       "version_minor": 0
      },
      "text/plain": [
       "VBox(children=(HBox(children=(VBox(children=(Button(button_style='primary', icon='arrows', layout=Layout(width…"
      ]
     },
     "execution_count": 11,
     "metadata": {},
     "output_type": "execute_result"
    }
   ],
   "source": [
    "from jscatter import Scatter\n",
    "\n",
    "scatter = Scatter(\n",
    "    data=huffpost_embeddings,\n",
    "    color_by='category',\n",
    "    color_map=category_cmap,\n",
    "    height=720,\n",
    "    legend=True,\n",
    "    **huffpost_scatter_config,\n",
    ")\n",
    "scatter.show()"
   ]
  },
  {
   "cell_type": "code",
   "execution_count": null,
   "id": "846ce9ba-e8a0-45bc-be44-f4e58d1d1016",
   "metadata": {},
   "outputs": [],
   "source": []
  }
 ],
 "metadata": {
  "kernelspec": {
   "display_name": "Python 3 (ipykernel)",
   "language": "python",
   "name": "python3"
  },
  "language_info": {
   "codemirror_mode": {
    "name": "ipython",
    "version": 3
   },
   "file_extension": ".py",
   "mimetype": "text/x-python",
   "name": "python",
   "nbconvert_exporter": "python",
   "pygments_lexer": "ipython3",
   "version": "3.12.7"
  }
 },
 "nbformat": 4,
 "nbformat_minor": 5
}
