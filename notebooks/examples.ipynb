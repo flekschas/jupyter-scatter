{
 "cells": [
  {
   "cell_type": "code",
   "execution_count": 1,
   "id": "caroline-trial",
   "metadata": {},
   "outputs": [],
   "source": [
    "import numpy as np\n",
    "import pandas as pd\n",
    "import jscatter"
   ]
  },
  {
   "cell_type": "code",
   "execution_count": 2,
   "id": "fantastic-treaty",
   "metadata": {},
   "outputs": [
    {
     "data": {
      "text/html": [
       "<div>\n",
       "<style scoped>\n",
       "    .dataframe tbody tr th:only-of-type {\n",
       "        vertical-align: middle;\n",
       "    }\n",
       "\n",
       "    .dataframe tbody tr th {\n",
       "        vertical-align: top;\n",
       "    }\n",
       "\n",
       "    .dataframe thead th {\n",
       "        text-align: right;\n",
       "    }\n",
       "</style>\n",
       "<table border=\"1\" class=\"dataframe\">\n",
       "  <thead>\n",
       "    <tr style=\"text-align: right;\">\n",
       "      <th></th>\n",
       "      <th>x</th>\n",
       "      <th>y</th>\n",
       "      <th>value</th>\n",
       "      <th>group</th>\n",
       "    </tr>\n",
       "  </thead>\n",
       "  <tbody>\n",
       "    <tr>\n",
       "      <th>0</th>\n",
       "      <td>0.213912</td>\n",
       "      <td>0.915974</td>\n",
       "      <td>0.016774</td>\n",
       "      <td>B</td>\n",
       "    </tr>\n",
       "    <tr>\n",
       "      <th>1</th>\n",
       "      <td>0.954656</td>\n",
       "      <td>0.826894</td>\n",
       "      <td>0.330561</td>\n",
       "      <td>F</td>\n",
       "    </tr>\n",
       "    <tr>\n",
       "      <th>2</th>\n",
       "      <td>0.254031</td>\n",
       "      <td>0.455129</td>\n",
       "      <td>0.722906</td>\n",
       "      <td>C</td>\n",
       "    </tr>\n",
       "    <tr>\n",
       "      <th>3</th>\n",
       "      <td>0.121346</td>\n",
       "      <td>0.967093</td>\n",
       "      <td>0.698138</td>\n",
       "      <td>G</td>\n",
       "    </tr>\n",
       "    <tr>\n",
       "      <th>4</th>\n",
       "      <td>0.304342</td>\n",
       "      <td>0.047430</td>\n",
       "      <td>0.506171</td>\n",
       "      <td>F</td>\n",
       "    </tr>\n",
       "  </tbody>\n",
       "</table>\n",
       "</div>"
      ],
      "text/plain": [
       "          x         y     value group\n",
       "0  0.213912  0.915974  0.016774     B\n",
       "1  0.954656  0.826894  0.330561     F\n",
       "2  0.254031  0.455129  0.722906     C\n",
       "3  0.121346  0.967093  0.698138     G\n",
       "4  0.304342  0.047430  0.506171     F"
      ]
     },
     "execution_count": 2,
     "metadata": {},
     "output_type": "execute_result"
    }
   ],
   "source": [
    "n = 500\n",
    "data = np.random.rand(n, 4)\n",
    "data[:,3] = np.round(data[:,3] * 7).astype(int)\n",
    "\n",
    "df = pd.DataFrame(\n",
    "    data,\n",
    "    columns=['x', 'y', 'value', 'group'],\n",
    ")\n",
    "df['group'] = df['group'].astype('int').astype('category').map(lambda c: chr(65 + c), na_action=None)\n",
    "df.head(5)"
   ]
  },
  {
   "cell_type": "code",
   "execution_count": 3,
   "id": "macro-concept",
   "metadata": {},
   "outputs": [
    {
     "data": {
      "application/vnd.jupyter.widget-view+json": {
       "model_id": "72b6c8565d384316ab64f28b06590621",
       "version_major": 2,
       "version_minor": 0
      },
      "text/plain": [
       "HBox(children=(VBox(children=(Button(button_style='primary', icon='arrows', layout=Layout(width='36px'), style…"
      ]
     },
     "metadata": {},
     "output_type": "display_data"
    }
   ],
   "source": [
    "scatterplot = jscatter.plot(\n",
    "    data=df,\n",
    "    x='x',\n",
    "    y='y',\n",
    "    color_by='group',\n",
    "    connect_by='group',\n",
    "    size_by='value',\n",
    "    opacity_by='value',\n",
    ")\n",
    "scatterplot.show()"
   ]
  },
  {
   "cell_type": "code",
   "execution_count": 6,
   "id": "mechanical-party",
   "metadata": {},
   "outputs": [],
   "source": [
    "scatterplot.selection = df.query('group == \"G\"').index.values.tolist()"
   ]
  },
  {
   "cell_type": "code",
   "execution_count": null,
   "id": "protective-commerce",
   "metadata": {},
   "outputs": [],
   "source": [
    "scatterplot.selection = []"
   ]
  },
  {
   "cell_type": "code",
   "execution_count": null,
   "id": "valued-shoot",
   "metadata": {},
   "outputs": [],
   "source": [
    "scatterplot = jscatter.plot(\n",
    "    data=df,\n",
    "    x='x',\n",
    "    y='y',\n",
    "    color='black',\n",
    "    size_by='value',\n",
    "    size_map=np.arange(1, 20).tolist(),\n",
    ")\n",
    "scatterplot.show()"
   ]
  },
  {
   "cell_type": "code",
   "execution_count": null,
   "id": "controlling-ecology",
   "metadata": {},
   "outputs": [],
   "source": [
    "scatterplot = jscatter.plot(\n",
    "    data=df,\n",
    "    x='x',\n",
    "    y='y',\n",
    "    color='black',\n",
    "    size_by='value',\n",
    "    size_map=np.arange(1, 20),\n",
    "    size_order='reverse'\n",
    ")\n",
    "scatterplot.show()"
   ]
  }
 ],
 "metadata": {
  "kernelspec": {
   "display_name": "Python 3",
   "language": "python",
   "name": "python3"
  },
  "language_info": {
   "codemirror_mode": {
    "name": "ipython",
    "version": 3
   },
   "file_extension": ".py",
   "mimetype": "text/x-python",
   "name": "python",
   "nbconvert_exporter": "python",
   "pygments_lexer": "ipython3",
   "version": "3.9.1"
  }
 },
 "nbformat": 4,
 "nbformat_minor": 5
}
