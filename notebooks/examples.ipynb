{
 "cells": [
  {
   "cell_type": "code",
   "execution_count": 1,
   "id": "weekly-modem",
   "metadata": {},
   "outputs": [],
   "source": [
    "import numpy as np\n",
    "import pandas as pd\n",
    "import jscatter"
   ]
  },
  {
   "cell_type": "code",
   "execution_count": 2,
   "id": "incorrect-minutes",
   "metadata": {},
   "outputs": [
    {
     "data": {
      "text/html": [
       "<div>\n",
       "<style scoped>\n",
       "    .dataframe tbody tr th:only-of-type {\n",
       "        vertical-align: middle;\n",
       "    }\n",
       "\n",
       "    .dataframe tbody tr th {\n",
       "        vertical-align: top;\n",
       "    }\n",
       "\n",
       "    .dataframe thead th {\n",
       "        text-align: right;\n",
       "    }\n",
       "</style>\n",
       "<table border=\"1\" class=\"dataframe\">\n",
       "  <thead>\n",
       "    <tr style=\"text-align: right;\">\n",
       "      <th></th>\n",
       "      <th>x</th>\n",
       "      <th>y</th>\n",
       "      <th>value</th>\n",
       "      <th>group</th>\n",
       "      <th>bla</th>\n",
       "    </tr>\n",
       "  </thead>\n",
       "  <tbody>\n",
       "    <tr>\n",
       "      <th>0</th>\n",
       "      <td>0.658426</td>\n",
       "      <td>0.682262</td>\n",
       "      <td>0.614013</td>\n",
       "      <td>F</td>\n",
       "      <td>0.739413</td>\n",
       "    </tr>\n",
       "    <tr>\n",
       "      <th>1</th>\n",
       "      <td>0.767932</td>\n",
       "      <td>0.907164</td>\n",
       "      <td>0.822438</td>\n",
       "      <td>D</td>\n",
       "      <td>0.451547</td>\n",
       "    </tr>\n",
       "    <tr>\n",
       "      <th>2</th>\n",
       "      <td>0.184592</td>\n",
       "      <td>0.974775</td>\n",
       "      <td>0.330097</td>\n",
       "      <td>B</td>\n",
       "      <td>0.136393</td>\n",
       "    </tr>\n",
       "    <tr>\n",
       "      <th>3</th>\n",
       "      <td>0.113624</td>\n",
       "      <td>0.217273</td>\n",
       "      <td>0.767468</td>\n",
       "      <td>F</td>\n",
       "      <td>0.962905</td>\n",
       "    </tr>\n",
       "    <tr>\n",
       "      <th>4</th>\n",
       "      <td>0.032186</td>\n",
       "      <td>0.012218</td>\n",
       "      <td>0.582724</td>\n",
       "      <td>B</td>\n",
       "      <td>0.859827</td>\n",
       "    </tr>\n",
       "  </tbody>\n",
       "</table>\n",
       "</div>"
      ],
      "text/plain": [
       "          x         y     value group       bla\n",
       "0  0.658426  0.682262  0.614013     F  0.739413\n",
       "1  0.767932  0.907164  0.822438     D  0.451547\n",
       "2  0.184592  0.974775  0.330097     B  0.136393\n",
       "3  0.113624  0.217273  0.767468     F  0.962905\n",
       "4  0.032186  0.012218  0.582724     B  0.859827"
      ]
     },
     "execution_count": 2,
     "metadata": {},
     "output_type": "execute_result"
    }
   ],
   "source": [
    "n = 500\n",
    "data = np.random.rand(n, 5)\n",
    "data[:,3] = np.round(data[:,3] * 7).astype(int)\n",
    "\n",
    "df = pd.DataFrame(\n",
    "    data,\n",
    "    columns=['x', 'y', 'value', 'group', 'bla'],\n",
    ")\n",
    "df['group'] = df['group'].astype('int').astype('category').map(lambda c: chr(65 + c), na_action=None)\n",
    "df.head(5)"
   ]
  },
  {
   "cell_type": "markdown",
   "id": "associate-literacy",
   "metadata": {},
   "source": [
    "## Simple Test"
   ]
  },
  {
   "cell_type": "code",
   "execution_count": 3,
   "id": "welsh-documentary",
   "metadata": {},
   "outputs": [
    {
     "data": {
      "application/vnd.jupyter.widget-view+json": {
       "model_id": "acac2c870c6c4510bb0feb58ee6a0659",
       "version_major": 2,
       "version_minor": 0
      },
      "text/plain": [
       "HBox(children=(VBox(children=(Button(button_style='primary', icon='arrows', layout=Layout(width='36px'), style…"
      ]
     },
     "metadata": {},
     "output_type": "display_data"
    }
   ],
   "source": [
    "scatter = jscatter.Scatter('x', 'y', df, color_by='value')\n",
    "scatter.show()"
   ]
  },
  {
   "cell_type": "code",
   "execution_count": 6,
   "id": "talented-trading",
   "metadata": {},
   "outputs": [
    {
     "data": {
      "text/plain": [
       "<jscatter.jscatter.Scatter at 0x15b5b7d00>"
      ]
     },
     "execution_count": 6,
     "metadata": {},
     "output_type": "execute_result"
    }
   ],
   "source": [
    "scatter.height(320).size(10).selection(df.query('x < 0.5').index)"
   ]
  },
  {
   "cell_type": "code",
   "execution_count": null,
   "id": "rational-telescope",
   "metadata": {},
   "outputs": [],
   "source": [
    "scatter.selection()"
   ]
  },
  {
   "cell_type": "markdown",
   "id": "unable-search",
   "metadata": {},
   "source": [
    "# Short-Hand Test"
   ]
  },
  {
   "cell_type": "code",
   "execution_count": 8,
   "id": "interpreted-disease",
   "metadata": {},
   "outputs": [
    {
     "data": {
      "application/vnd.jupyter.widget-view+json": {
       "model_id": "730f3669bc544f989a15869e206c54ff",
       "version_major": 2,
       "version_minor": 0
      },
      "text/plain": [
       "HBox(children=(VBox(children=(Button(button_style='primary', icon='arrows', layout=Layout(width='36px'), style…"
      ]
     },
     "metadata": {},
     "output_type": "display_data"
    }
   ],
   "source": [
    "jscatter.plot(\n",
    "    data=df,\n",
    "    x='x',\n",
    "    y='y',\n",
    "    color_by='value',\n",
    "    color_order='reverse',\n",
    "    size_by='value',\n",
    "    size_map=[10,11,12,13,14,15],\n",
    "    opacity_by='value',\n",
    "    connect_by='group',\n",
    "    connection_color_by='value',\n",
    "    connection_color_order='reverse',\n",
    "    height=600\n",
    ")"
   ]
  },
  {
   "cell_type": "markdown",
   "id": "distinguished-beatles",
   "metadata": {},
   "source": [
    "# Large-Scale Test"
   ]
  },
  {
   "cell_type": "code",
   "execution_count": 10,
   "id": "placed-passenger",
   "metadata": {},
   "outputs": [],
   "source": [
    "def roesslerAttractor(num):\n",
    "    from math import inf\n",
    "    \n",
    "    points = []\n",
    "\n",
    "    xn = 2.644838333129883\n",
    "    yn = 4.060488700866699\n",
    "    zn = 2.8982460498809814\n",
    "    a = 0.2\n",
    "    b = 0.2\n",
    "    c = 5.7\n",
    "    dt = 0.006\n",
    "\n",
    "    minX = inf\n",
    "    maxX = -inf\n",
    "    minY = inf\n",
    "    maxY = -inf\n",
    "    for i in range(num):\n",
    "        dx = -yn - zn\n",
    "        dy = xn + a * yn\n",
    "        dz = b + zn * (xn - c)\n",
    "\n",
    "        xh = xn + 0.5 * dt * dx\n",
    "        yh = yn + 0.5 * dt * dy\n",
    "        zh = zn + 0.5 * dt * dz\n",
    "\n",
    "        dx = -yh - zh\n",
    "        dy = xh + a * yh\n",
    "        dz = b + zh * (xh - c)\n",
    "\n",
    "        xn1 = xn + dt * dx\n",
    "        yn1 = yn + dt * dy\n",
    "        zn1 = zn + dt * dz\n",
    "\n",
    "        points.append([xn1, yn1])\n",
    "\n",
    "        minX = min(xn1, minX)\n",
    "        maxX = max(xn1, maxX)\n",
    "        minY = min(yn1, minY)\n",
    "        maxY = max(yn1, maxY)\n",
    "\n",
    "        xn = xn1;\n",
    "        yn = yn1;\n",
    "        zn = zn1;\n",
    "\n",
    "\n",
    "    dX = maxX - minX\n",
    "    dY = maxY - minY\n",
    "\n",
    "    for i in range(num):\n",
    "        points[i][0] -= minX\n",
    "        points[i][0] /= dX / 2\n",
    "        points[i][0] -= 1\n",
    "        points[i][1] -= minY\n",
    "        points[i][1] /= dY / 2\n",
    "        points[i][1] -= 1\n",
    "\n",
    "    return points"
   ]
  },
  {
   "cell_type": "code",
   "execution_count": 11,
   "id": "diverse-warner",
   "metadata": {},
   "outputs": [
    {
     "data": {
      "application/vnd.jupyter.widget-view+json": {
       "model_id": "f08ab01723544cc8a9e8d0d393996c29",
       "version_major": 2,
       "version_minor": 0
      },
      "text/plain": [
       "HBox(children=(VBox(children=(Button(button_style='primary', icon='arrows', layout=Layout(width='36px'), style…"
      ]
     },
     "metadata": {},
     "output_type": "display_data"
    }
   ],
   "source": [
    "points = np.asarray(roesslerAttractor(100000))\n",
    "jscatter.plot(points[:,0], points[:,1])"
   ]
  },
  {
   "cell_type": "code",
   "execution_count": null,
   "id": "intellectual-retirement",
   "metadata": {},
   "outputs": [],
   "source": []
  }
 ],
 "metadata": {
  "kernelspec": {
   "display_name": "Python 3",
   "language": "python",
   "name": "python3"
  },
  "language_info": {
   "codemirror_mode": {
    "name": "ipython",
    "version": 3
   },
   "file_extension": ".py",
   "mimetype": "text/x-python",
   "name": "python",
   "nbconvert_exporter": "python",
   "pygments_lexer": "ipython3",
   "version": "3.9.1"
  }
 },
 "nbformat": 4,
 "nbformat_minor": 5
}
