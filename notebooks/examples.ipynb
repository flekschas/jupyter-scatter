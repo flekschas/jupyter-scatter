{
 "cells": [
  {
   "cell_type": "code",
   "execution_count": 1,
   "id": "suspended-dictionary",
   "metadata": {},
   "outputs": [],
   "source": [
    "import numpy as np\n",
    "import pandas as pd\n",
    "import jscatter"
   ]
  },
  {
   "cell_type": "code",
   "execution_count": 2,
   "id": "sensitive-finger",
   "metadata": {},
   "outputs": [
    {
     "data": {
      "text/html": [
       "<div>\n",
       "<style scoped>\n",
       "    .dataframe tbody tr th:only-of-type {\n",
       "        vertical-align: middle;\n",
       "    }\n",
       "\n",
       "    .dataframe tbody tr th {\n",
       "        vertical-align: top;\n",
       "    }\n",
       "\n",
       "    .dataframe thead th {\n",
       "        text-align: right;\n",
       "    }\n",
       "</style>\n",
       "<table border=\"1\" class=\"dataframe\">\n",
       "  <thead>\n",
       "    <tr style=\"text-align: right;\">\n",
       "      <th></th>\n",
       "      <th>x</th>\n",
       "      <th>y</th>\n",
       "      <th>value</th>\n",
       "      <th>group</th>\n",
       "    </tr>\n",
       "  </thead>\n",
       "  <tbody>\n",
       "    <tr>\n",
       "      <th>0</th>\n",
       "      <td>0.819162</td>\n",
       "      <td>0.801597</td>\n",
       "      <td>0.806771</td>\n",
       "      <td>G</td>\n",
       "    </tr>\n",
       "    <tr>\n",
       "      <th>1</th>\n",
       "      <td>0.717698</td>\n",
       "      <td>0.309595</td>\n",
       "      <td>0.495842</td>\n",
       "      <td>B</td>\n",
       "    </tr>\n",
       "    <tr>\n",
       "      <th>2</th>\n",
       "      <td>0.454103</td>\n",
       "      <td>0.817916</td>\n",
       "      <td>0.184145</td>\n",
       "      <td>C</td>\n",
       "    </tr>\n",
       "    <tr>\n",
       "      <th>3</th>\n",
       "      <td>0.964082</td>\n",
       "      <td>0.516785</td>\n",
       "      <td>0.311867</td>\n",
       "      <td>F</td>\n",
       "    </tr>\n",
       "    <tr>\n",
       "      <th>4</th>\n",
       "      <td>0.077463</td>\n",
       "      <td>0.251543</td>\n",
       "      <td>0.472809</td>\n",
       "      <td>F</td>\n",
       "    </tr>\n",
       "  </tbody>\n",
       "</table>\n",
       "</div>"
      ],
      "text/plain": [
       "          x         y     value group\n",
       "0  0.819162  0.801597  0.806771     G\n",
       "1  0.717698  0.309595  0.495842     B\n",
       "2  0.454103  0.817916  0.184145     C\n",
       "3  0.964082  0.516785  0.311867     F\n",
       "4  0.077463  0.251543  0.472809     F"
      ]
     },
     "execution_count": 2,
     "metadata": {},
     "output_type": "execute_result"
    }
   ],
   "source": [
    "n = 500\n",
    "data = np.random.rand(n, 4)\n",
    "data[:,3] = np.round(data[:,3] * 7).astype(int)\n",
    "\n",
    "df = pd.DataFrame(\n",
    "    data,\n",
    "    columns=['x', 'y', 'value', 'group'],\n",
    ")\n",
    "df['group'] = df['group'].astype('int').astype('category').map(lambda c: chr(65 + c), na_action=None)\n",
    "df.head(5)"
   ]
  },
  {
   "cell_type": "code",
   "execution_count": 3,
   "id": "consistent-touch",
   "metadata": {},
   "outputs": [
    {
     "data": {
      "application/vnd.jupyter.widget-view+json": {
       "model_id": "f6977de541884ae8b9f60b0d60ad8ad5",
       "version_major": 2,
       "version_minor": 0
      },
      "text/plain": [
       "HBox(children=(VBox(children=(Button(button_style='primary', icon='arrows', layout=Layout(width='36px'), style…"
      ]
     },
     "metadata": {},
     "output_type": "display_data"
    }
   ],
   "source": [
    "scatterplot = jscatter.plot(\n",
    "    data=df,\n",
    "    x='x',\n",
    "    y='y',\n",
    "    color_by='value',\n",
    "    color_order='reverse',\n",
    "    size_by='value',\n",
    "    opacity_by='value',\n",
    "    connect_by='group',\n",
    "    connection_color_by='value',\n",
    "    connection_color_order='reverse',\n",
    "    connection_size_by='value',\n",
    "    height=600\n",
    ")\n",
    "scatterplot.show()"
   ]
  },
  {
   "cell_type": "code",
   "execution_count": 6,
   "id": "spare-consequence",
   "metadata": {},
   "outputs": [],
   "source": [
    "scatterplot.select(df.query('value > 0.9').index)"
   ]
  },
  {
   "cell_type": "code",
   "execution_count": 12,
   "id": "removable-middle",
   "metadata": {},
   "outputs": [],
   "source": [
    "scatterplot.size = [1, 3, 60, 50, 100]"
   ]
  }
 ],
 "metadata": {
  "kernelspec": {
   "display_name": "Python 3",
   "language": "python",
   "name": "python3"
  },
  "language_info": {
   "codemirror_mode": {
    "name": "ipython",
    "version": 3
   },
   "file_extension": ".py",
   "mimetype": "text/x-python",
   "name": "python",
   "nbconvert_exporter": "python",
   "pygments_lexer": "ipython3",
   "version": "3.9.1"
  }
 },
 "nbformat": 4,
 "nbformat_minor": 5
}
