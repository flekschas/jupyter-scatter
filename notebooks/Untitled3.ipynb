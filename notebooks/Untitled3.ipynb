{
 "cells": [
  {
   "cell_type": "code",
   "execution_count": 4,
   "id": "f38d4d40-e556-4c90-a9d2-6d583f2b7517",
   "metadata": {
    "tags": []
   },
   "outputs": [],
   "source": [
    "import numpy as np\n",
    "from matplotlib.colors import AsinhNorm"
   ]
  },
  {
   "cell_type": "code",
   "execution_count": 5,
   "id": "2e42d535-464b-47c4-9703-4504a71032bd",
   "metadata": {
    "tags": []
   },
   "outputs": [
    {
     "data": {
      "text/plain": [
       "array([-10.,  -9.,  -8.,  -7.,  -6.,  -5.,  -4.,  -3.,  -2.,  -1.,   0.,\n",
       "         1.,   2.,   3.,   4.,   5.,   6.,   7.,   8.,   9.,  10.])"
      ]
     },
     "execution_count": 5,
     "metadata": {},
     "output_type": "execute_result"
    }
   ],
   "source": [
    "np.linspace(-10, 10, 21)"
   ]
  },
  {
   "cell_type": "code",
   "execution_count": 6,
   "id": "86b7db43-0ee4-487d-a5c8-dad9c35afb27",
   "metadata": {
    "tags": []
   },
   "outputs": [
    {
     "data": {
      "text/plain": [
       "masked_array(data=[0.0, 0.017473511167954515, 0.03698035023583121,\n",
       "                   0.05905201099273644, 0.08445721116282,\n",
       "                   0.11436517903998143, 0.15067431909075937,\n",
       "                   0.19674595762610886, 0.2592514801083524,\n",
       "                   0.3530173369975788, 0.5, 0.6469826630024212,\n",
       "                   0.7407485198916476, 0.8032540423738911,\n",
       "                   0.8493256809092407, 0.8856348209600187,\n",
       "                   0.9155427888371801, 0.9409479890072635,\n",
       "                   0.9630196497641688, 0.9825264888320455, 1.0],\n",
       "             mask=[False, False, False, False, False, False, False, False,\n",
       "                   False, False, False, False, False, False, False, False,\n",
       "                   False, False, False, False, False],\n",
       "       fill_value=1e+20)"
      ]
     },
     "execution_count": 6,
     "metadata": {},
     "output_type": "execute_result"
    }
   ],
   "source": [
    "asinh = AsinhNorm()\n",
    "asinh(np.linspace(-10, 10, 21))"
   ]
  },
  {
   "cell_type": "code",
   "execution_count": null,
   "id": "c784afc7-68be-48b1-902b-418992de16a4",
   "metadata": {},
   "outputs": [],
   "source": []
  }
 ],
 "metadata": {
  "kernelspec": {
   "display_name": "Python 3 (ipykernel)",
   "language": "python",
   "name": "python3"
  },
  "language_info": {
   "codemirror_mode": {
    "name": "ipython",
    "version": 3
   },
   "file_extension": ".py",
   "mimetype": "text/x-python",
   "name": "python",
   "nbconvert_exporter": "python",
   "pygments_lexer": "ipython3",
   "version": "3.10.9"
  }
 },
 "nbformat": 4,
 "nbformat_minor": 5
}
