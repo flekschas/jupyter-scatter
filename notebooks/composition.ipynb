{
 "cells": [
  {
   "cell_type": "markdown",
   "id": "adjusted-environment",
   "metadata": {},
   "source": [
    "# Composition Example\n",
    "\n",
    "In this example we're going to compose and link multiple scatter plots."
   ]
  },
  {
   "cell_type": "code",
   "execution_count": 1,
   "id": "boxed-sellers",
   "metadata": {},
   "outputs": [],
   "source": [
    "import numpy as np\n",
    "import pandas as pd\n",
    "import jscatter"
   ]
  },
  {
   "cell_type": "code",
   "execution_count": 2,
   "id": "constant-quality",
   "metadata": {},
   "outputs": [],
   "source": [
    "sc1 = jscatter.Scatter(\n",
    "    np.random.rand(100), np.random.rand(100), color='#dca237', size=10\n",
    ")\n",
    "sc2 = jscatter.Scatter(\n",
    "    np.random.rand(100), np.random.rand(100), color='#6fb2e4', size=10\n",
    ")\n",
    "sc3 = jscatter.Scatter(\n",
    "    np.random.rand(100), np.random.rand(100), color='#c17da5', size=10\n",
    ")"
   ]
  },
  {
   "cell_type": "code",
   "execution_count": 3,
   "id": "closing-determination",
   "metadata": {},
   "outputs": [
    {
     "data": {
      "application/vnd.jupyter.widget-view+json": {
       "model_id": "614db2f5abe942499d28793964679ebe",
       "version_major": 2,
       "version_minor": 0
      },
      "text/plain": [
       "GridBox(children=(HBox(children=(VBox(children=(Button(button_style='primary', icon='arrows', layout=Layout(wi…"
      ]
     },
     "metadata": {},
     "output_type": "display_data"
    }
   ],
   "source": [
    "jscatter.compose([sc1, sc2, sc3])"
   ]
  },
  {
   "cell_type": "markdown",
   "id": "addressed-feeding",
   "metadata": {},
   "source": [
    "### Grid Compositions\n",
    "\n",
    "You can also compose multiple scatter plots vertically or in a 2D grid through a nested list of scatter plots."
   ]
  },
  {
   "cell_type": "code",
   "execution_count": 4,
   "id": "mysterious-anniversary",
   "metadata": {},
   "outputs": [],
   "source": [
    "sc4 = jscatter.Scatter(\n",
    "    np.random.rand(100), np.random.rand(100), color='#469b76', size=10\n",
    ")"
   ]
  },
  {
   "cell_type": "code",
   "execution_count": 5,
   "id": "difficult-summit",
   "metadata": {},
   "outputs": [
    {
     "data": {
      "application/vnd.jupyter.widget-view+json": {
       "model_id": "1bdbfb225acf47dea95d0f4b2281a17e",
       "version_major": 2,
       "version_minor": 0
      },
      "text/plain": [
       "GridBox(children=(HBox(children=(VBox(children=(Button(button_style='primary', icon='arrows', layout=Layout(wi…"
      ]
     },
     "metadata": {},
     "output_type": "display_data"
    }
   ],
   "source": [
    "jscatter.compose([[sc1, sc2], [sc3, sc4]])"
   ]
  },
  {
   "cell_type": "code",
   "execution_count": null,
   "id": "funny-raleigh",
   "metadata": {},
   "outputs": [],
   "source": []
  }
 ],
 "metadata": {
  "kernelspec": {
   "display_name": "Python 3",
   "language": "python",
   "name": "python3"
  },
  "language_info": {
   "codemirror_mode": {
    "name": "ipython",
    "version": 3
   },
   "file_extension": ".py",
   "mimetype": "text/x-python",
   "name": "python",
   "nbconvert_exporter": "python",
   "pygments_lexer": "ipython3",
   "version": "3.9.1"
  }
 },
 "nbformat": 4,
 "nbformat_minor": 5
}
