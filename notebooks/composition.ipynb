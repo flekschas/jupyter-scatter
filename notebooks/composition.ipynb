{
 "cells": [
  {
   "cell_type": "markdown",
   "id": "configured-sherman",
   "metadata": {},
   "source": [
    "# Composition Example\n",
    "\n",
    "In this example we're going to compose and link multiple scatter plots."
   ]
  },
  {
   "cell_type": "code",
   "execution_count": 1,
   "id": "combined-affairs",
   "metadata": {},
   "outputs": [],
   "source": [
    "import numpy as np\n",
    "import pandas as pd\n",
    "import jscatter"
   ]
  },
  {
   "cell_type": "markdown",
   "id": "excessive-venture",
   "metadata": {},
   "source": [
    "First we generate some dummy grid data such that each subsequent dataset has have the points."
   ]
  },
  {
   "cell_type": "code",
   "execution_count": 2,
   "id": "automated-producer",
   "metadata": {},
   "outputs": [],
   "source": [
    "X1, Y1 = np.mgrid[0:8:1, 0:8:1]\n",
    "X2, Y2 = np.mgrid[0:4:1, 0:4:1]\n",
    "X3, Y3 = np.mgrid[0:2:1, 0:2:1]\n",
    "\n",
    "X = [X1, X2, X3]\n",
    "Y = [Y1, Y2, Y3]"
   ]
  },
  {
   "cell_type": "code",
   "execution_count": 3,
   "id": "signed-hello",
   "metadata": {},
   "outputs": [],
   "source": [
    "sc1 = jscatter.Scatter(X1.flatten(), Y1.flatten(), color='#dca237', size=10)\n",
    "sc2 = jscatter.Scatter(X2.flatten(), Y2.flatten(), color='#6fb2e4', size=10)\n",
    "sc3 = jscatter.Scatter(X3.flatten(), Y3.flatten(), color='#c17da5', size=10)"
   ]
  },
  {
   "cell_type": "markdown",
   "id": "sticky-proposition",
   "metadata": {},
   "source": [
    "To define correspondes upon hovering and selecting, jupyter-scatter's `compose` function allows to specify select and hover mapping functions. The job of a matter is to map an incoming hover or select event to map to the local points that need to be selected."
   ]
  },
  {
   "cell_type": "code",
   "execution_count": 4,
   "id": "permanent-yahoo",
   "metadata": {},
   "outputs": [],
   "source": [
    "# In this demo, create_mapper() is a factory function that creates a mapping function for the `i`th scatter plot.\n",
    "def create_mapper(i):\n",
    "    from functools import reduce\n",
    "    from math import floor\n",
    "    from operator import concat\n",
    "    \n",
    "    # This is that target or output number of rows\n",
    "    target_rows = X[i].shape[1]\n",
    "    \n",
    "    # The actually mapping function receives two arguments when a hover or select event comes in:\n",
    "    # 1. `j` the index of the scatter plot that triggered the event\n",
    "    # 2. `v` the value of the hover or selection event\n",
    "    def mapper(j, v): \n",
    "        if i == j:\n",
    "            return v\n",
    "        \n",
    "        exp = 2 ** abs(i - j)\n",
    "        \n",
    "        is_less = i > j\n",
    "        \n",
    "        trans_less = lambda idx: floor(idx * 0.5 ** exp)\n",
    "        trans_more = lambda idx: list(range(idx * int(2 ** exp), (idx + 1) * int(2 ** exp)))\n",
    "        \n",
    "        is_list = isinstance(v, list)\n",
    "        \n",
    "        if is_list:\n",
    "            if is_less:\n",
    "                return list(dict.fromkeys(map(trans_less, v)))\n",
    "            else:\n",
    "                print()\n",
    "                return reduce(concat, map(trans_more, v))\n",
    "        \n",
    "        if is_less:\n",
    "            return trans_less(v)\n",
    "        else:\n",
    "            return list(trans_more(v))\n",
    "        \n",
    "    return mapper"
   ]
  },
  {
   "cell_type": "code",
   "execution_count": 5,
   "id": "eight-pregnancy",
   "metadata": {},
   "outputs": [
    {
     "data": {
      "application/vnd.jupyter.widget-view+json": {
       "model_id": "25e4b001651b402ca446f928a974a59c",
       "version_major": 2,
       "version_minor": 0
      },
      "text/plain": [
       "GridBox(children=(HBox(children=(VBox(children=(Button(button_style='primary', icon='arrows', layout=Layout(wi…"
      ]
     },
     "metadata": {},
     "output_type": "display_data"
    }
   ],
   "source": [
    "jscatter.compose(\n",
    "    [sc1, sc2, sc3],\n",
    "    select_mappers=[create_mapper(i) for i in range(3)],\n",
    "    hover_mappers=[create_mapper(i) for i in range(3)]\n",
    ")"
   ]
  },
  {
   "cell_type": "markdown",
   "id": "engaging-block",
   "metadata": {},
   "source": [
    "### Grid Compositions\n",
    "\n",
    "You can also compose multiple scatter plots vertically or in a 2D grid through a nested list of scatter plots."
   ]
  },
  {
   "cell_type": "code",
   "execution_count": 6,
   "id": "public-climate",
   "metadata": {},
   "outputs": [],
   "source": [
    "sc4 = jscatter.Scatter(\n",
    "    np.random.rand(100), np.random.rand(100), color='#469b76', size=10\n",
    ")"
   ]
  },
  {
   "cell_type": "code",
   "execution_count": 7,
   "id": "emerging-jonathan",
   "metadata": {},
   "outputs": [
    {
     "data": {
      "application/vnd.jupyter.widget-view+json": {
       "model_id": "1f013271a036451aa0a88a1dcd0dde5f",
       "version_major": 2,
       "version_minor": 0
      },
      "text/plain": [
       "GridBox(children=(HBox(children=(VBox(children=(Button(button_style='primary', icon='arrows', layout=Layout(wi…"
      ]
     },
     "metadata": {},
     "output_type": "display_data"
    }
   ],
   "source": [
    "jscatter.compose([[sc1, sc2], [sc3, sc4]], row_height=200)"
   ]
  },
  {
   "cell_type": "code",
   "execution_count": null,
   "id": "christian-factor",
   "metadata": {},
   "outputs": [],
   "source": []
  }
 ],
 "metadata": {
  "kernelspec": {
   "display_name": "Python 3",
   "language": "python",
   "name": "python3"
  },
  "language_info": {
   "codemirror_mode": {
    "name": "ipython",
    "version": 3
   },
   "file_extension": ".py",
   "mimetype": "text/x-python",
   "name": "python",
   "nbconvert_exporter": "python",
   "pygments_lexer": "ipython3",
   "version": "3.9.1"
  }
 },
 "nbformat": 4,
 "nbformat_minor": 5
}
