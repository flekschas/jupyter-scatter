{
 "cells": [
  {
   "cell_type": "code",
   "execution_count": 1,
   "id": "russian-medicare",
   "metadata": {},
   "outputs": [],
   "source": [
    "import numpy as np\n",
    "import pandas as pd\n",
    "import jscatter"
   ]
  },
  {
   "cell_type": "code",
   "execution_count": 2,
   "id": "conditional-falls",
   "metadata": {},
   "outputs": [
    {
     "data": {
      "text/html": [
       "<div>\n",
       "<style scoped>\n",
       "    .dataframe tbody tr th:only-of-type {\n",
       "        vertical-align: middle;\n",
       "    }\n",
       "\n",
       "    .dataframe tbody tr th {\n",
       "        vertical-align: top;\n",
       "    }\n",
       "\n",
       "    .dataframe thead th {\n",
       "        text-align: right;\n",
       "    }\n",
       "</style>\n",
       "<table border=\"1\" class=\"dataframe\">\n",
       "  <thead>\n",
       "    <tr style=\"text-align: right;\">\n",
       "      <th></th>\n",
       "      <th>x</th>\n",
       "      <th>y</th>\n",
       "      <th>value</th>\n",
       "      <th>group</th>\n",
       "    </tr>\n",
       "  </thead>\n",
       "  <tbody>\n",
       "    <tr>\n",
       "      <th>0</th>\n",
       "      <td>0.049014</td>\n",
       "      <td>0.271315</td>\n",
       "      <td>0.410184</td>\n",
       "      <td>F</td>\n",
       "    </tr>\n",
       "    <tr>\n",
       "      <th>1</th>\n",
       "      <td>0.829591</td>\n",
       "      <td>0.727429</td>\n",
       "      <td>0.471594</td>\n",
       "      <td>F</td>\n",
       "    </tr>\n",
       "    <tr>\n",
       "      <th>2</th>\n",
       "      <td>0.053424</td>\n",
       "      <td>0.261980</td>\n",
       "      <td>0.201252</td>\n",
       "      <td>B</td>\n",
       "    </tr>\n",
       "    <tr>\n",
       "      <th>3</th>\n",
       "      <td>0.141566</td>\n",
       "      <td>0.303058</td>\n",
       "      <td>0.585893</td>\n",
       "      <td>B</td>\n",
       "    </tr>\n",
       "    <tr>\n",
       "      <th>4</th>\n",
       "      <td>0.177598</td>\n",
       "      <td>0.085990</td>\n",
       "      <td>0.458693</td>\n",
       "      <td>G</td>\n",
       "    </tr>\n",
       "  </tbody>\n",
       "</table>\n",
       "</div>"
      ],
      "text/plain": [
       "          x         y     value group\n",
       "0  0.049014  0.271315  0.410184     F\n",
       "1  0.829591  0.727429  0.471594     F\n",
       "2  0.053424  0.261980  0.201252     B\n",
       "3  0.141566  0.303058  0.585893     B\n",
       "4  0.177598  0.085990  0.458693     G"
      ]
     },
     "execution_count": 2,
     "metadata": {},
     "output_type": "execute_result"
    }
   ],
   "source": [
    "n = 500\n",
    "data = np.random.rand(n, 4)\n",
    "data[:,3] = np.round(data[:,3] * 7).astype(int)\n",
    "\n",
    "df = pd.DataFrame(\n",
    "    data,\n",
    "    columns=['x', 'y', 'value', 'group'],\n",
    ")\n",
    "df['group'] = df['group'].astype('int').astype('category').map(lambda c: chr(65 + c), na_action=None)\n",
    "df.head(5)"
   ]
  },
  {
   "cell_type": "code",
   "execution_count": 3,
   "id": "received-tower",
   "metadata": {},
   "outputs": [
    {
     "data": {
      "application/vnd.jupyter.widget-view+json": {
       "model_id": "abd3403c8e2441d5a4b738aa78210f8e",
       "version_major": 2,
       "version_minor": 0
      },
      "text/plain": [
       "HBox(children=(VBox(children=(Button(button_style='primary', icon='arrows', layout=Layout(width='36px'), style…"
      ]
     },
     "metadata": {},
     "output_type": "display_data"
    }
   ],
   "source": [
    "scatterplot = jscatter.plot(\n",
    "    data=df,\n",
    "    x='x',\n",
    "    y='y',\n",
    "    color_by='group',\n",
    "    connect_by='group',\n",
    "    size_by='value',\n",
    "    opacity_by='value',\n",
    ")\n",
    "scatterplot.show()"
   ]
  },
  {
   "cell_type": "code",
   "execution_count": null,
   "id": "hairy-jewel",
   "metadata": {},
   "outputs": [],
   "source": [
    "scatterplot = jscatter.plot(\n",
    "    data=df,\n",
    "    x='x',\n",
    "    y='y',\n",
    "    color='black',\n",
    "    opacity_by='value',\n",
    ")\n",
    "scatterplot.show()"
   ]
  },
  {
   "cell_type": "code",
   "execution_count": null,
   "id": "postal-grocery",
   "metadata": {},
   "outputs": [],
   "source": [
    "scatterplot = jscatter.plot(\n",
    "    data=df,\n",
    "    x='x',\n",
    "    y='y',\n",
    "    color='black',\n",
    "    size_by='value',\n",
    "    size_map=np.arange(1, 20).tolist(),\n",
    ")\n",
    "scatterplot.show()"
   ]
  },
  {
   "cell_type": "code",
   "execution_count": null,
   "id": "productive-stuff",
   "metadata": {},
   "outputs": [],
   "source": [
    "scatterplot = jscatter.plot(\n",
    "    data=df,\n",
    "    x='x',\n",
    "    y='y',\n",
    "    color='black',\n",
    "    size_by='value',\n",
    "    size_map=np.arange(1, 20),\n",
    "    size_order='reverse'\n",
    ")\n",
    "scatterplot.show()"
   ]
  },
  {
   "cell_type": "code",
   "execution_count": null,
   "id": "olympic-right",
   "metadata": {},
   "outputs": [],
   "source": [
    "df.iloc[scatterplot.selection]"
   ]
  },
  {
   "cell_type": "code",
   "execution_count": null,
   "id": "patent-richardson",
   "metadata": {},
   "outputs": [],
   "source": [
    "s = ['a', 'b']"
   ]
  },
  {
   "cell_type": "code",
   "execution_count": null,
   "id": "advisory-portfolio",
   "metadata": {},
   "outputs": [],
   "source": [
    "pd.Series([0.1, 0.2], dtype='category').cat.codes"
   ]
  },
  {
   "cell_type": "code",
   "execution_count": null,
   "id": "pregnant-romania",
   "metadata": {},
   "outputs": [],
   "source": [
    "from functools import reduce\n",
    "\n",
    "def cat_to_num(series, order = None):\n",
    "    cat_int_map = None\n",
    "    \n",
    "    if order is None:\n",
    "        cat_int_map = { c: i + 1 for i, c in enumerate(df['group'].values.categories) }\n",
    "    else:\n",
    "        assert len(cats) == len(order)\n",
    "        cat_int_map = { c: i + 1 for i, c in enumerate(order) }\n",
    "        \n",
    "    return pd.as_numeric(series.map(lambda cat: cat_int_map[cat]))\n",
    "    \n",
    "cat_to_num(df['group'])"
   ]
  },
  {
   "cell_type": "code",
   "execution_count": null,
   "id": "expressed-sociology",
   "metadata": {},
   "outputs": [],
   "source": [
    "df['group']"
   ]
  },
  {
   "cell_type": "code",
   "execution_count": null,
   "id": "naked-bidding",
   "metadata": {},
   "outputs": [],
   "source": [
    "import math\n",
    "math.sqrt(\n",
    "        0.299 * 1 ** 2\n",
    "        + 0.587 * 1 ** 2\n",
    "        + 0.114 * 1 ** 2\n",
    "    )"
   ]
  },
  {
   "cell_type": "code",
   "execution_count": null,
   "id": "compound-footwear",
   "metadata": {},
   "outputs": [],
   "source": [
    "print(df.x.min(), df.x.max())"
   ]
  },
  {
   "cell_type": "code",
   "execution_count": null,
   "id": "molecular-composition",
   "metadata": {},
   "outputs": [],
   "source": [
    "import matplotlib.pyplot as plt\n",
    "[to_rgba(c) for c in plt.get_cmap('BrBG').colors]"
   ]
  },
  {
   "cell_type": "code",
   "execution_count": null,
   "id": "western-magic",
   "metadata": {},
   "outputs": [],
   "source": [
    "df.group.values.categories.tolist()"
   ]
  },
  {
   "cell_type": "code",
   "execution_count": null,
   "id": "significant-championship",
   "metadata": {},
   "outputs": [],
   "source": [
    "{ cat:code for cat, code in zip(df.group.cat.categories, df.group.cat.codes) }"
   ]
  },
  {
   "cell_type": "code",
   "execution_count": null,
   "id": "wrong-titanium",
   "metadata": {},
   "outputs": [],
   "source": [
    "dict(zip(df.group, df.group.cat.codes))"
   ]
  },
  {
   "cell_type": "code",
   "execution_count": null,
   "id": "failing-employer",
   "metadata": {},
   "outputs": [],
   "source": [
    "df.group.cat.categories[0]"
   ]
  },
  {
   "cell_type": "code",
   "execution_count": null,
   "id": "reported-novel",
   "metadata": {},
   "outputs": [],
   "source": [
    "order = [2, 1, 0]\n",
    "l = ['a', 0, (1,2)]\n",
    "\n",
    "list(zip(*(sorted(enumerate(l), key=lambda i: order[i[0]]))))[1]"
   ]
  },
  {
   "cell_type": "code",
   "execution_count": null,
   "id": "boxed-uruguay",
   "metadata": {},
   "outputs": [],
   "source": [
    "[l[order[i]] for i, color in enumerate(l)]"
   ]
  },
  {
   "cell_type": "code",
   "execution_count": null,
   "id": "acting-thanksgiving",
   "metadata": {},
   "outputs": [],
   "source": [
    "list(dict.fromkeys([None, None, 'y']))"
   ]
  },
  {
   "cell_type": "code",
   "execution_count": null,
   "id": "spectacular-thong",
   "metadata": {},
   "outputs": [],
   "source": [
    "dict.fromkeys([None, None, 'y'])"
   ]
  },
  {
   "cell_type": "code",
   "execution_count": null,
   "id": "general-cherry",
   "metadata": {},
   "outputs": [],
   "source": [
    "test = dict.fromkeys([None, None, 'y'])\n",
    "for i, x in enumerate(test):\n",
    "    test[x] = i + 2"
   ]
  },
  {
   "cell_type": "code",
   "execution_count": null,
   "id": "cathedral-surface",
   "metadata": {},
   "outputs": [],
   "source": [
    "bool('Furz')"
   ]
  },
  {
   "cell_type": "code",
   "execution_count": null,
   "id": "loaded-skill",
   "metadata": {},
   "outputs": [],
   "source": [
    "x = np.arange(16).reshape((4, -1))\n",
    "sorting = np.array([3, 2, 1, 0])\n",
    "y = x[sorting]\n",
    "y"
   ]
  },
  {
   "cell_type": "code",
   "execution_count": null,
   "id": "ideal-payment",
   "metadata": {},
   "outputs": [],
   "source": [
    "df.head()"
   ]
  },
  {
   "cell_type": "code",
   "execution_count": null,
   "id": "logical-sister",
   "metadata": {},
   "outputs": [],
   "source": []
  }
 ],
 "metadata": {
  "kernelspec": {
   "display_name": "Python 3",
   "language": "python",
   "name": "python3"
  },
  "language_info": {
   "codemirror_mode": {
    "name": "ipython",
    "version": 3
   },
   "file_extension": ".py",
   "mimetype": "text/x-python",
   "name": "python",
   "nbconvert_exporter": "python",
   "pygments_lexer": "ipython3",
   "version": "3.9.1"
  }
 },
 "nbformat": 4,
 "nbformat_minor": 5
}
