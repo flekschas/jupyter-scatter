{
 "cells": [
  {
   "cell_type": "code",
   "execution_count": 15,
   "metadata": {},
   "outputs": [],
   "source": [
    "import ipywidgets as widgets\n",
    "import numpy as np\n",
    "import jscatter\n",
    "\n",
    "from IPython.display import display"
   ]
  },
  {
   "cell_type": "code",
   "execution_count": 16,
   "metadata": {},
   "outputs": [
    {
     "data": {
      "text/plain": [
       "(0, 1, 0, 'final', 1)"
      ]
     },
     "execution_count": 16,
     "metadata": {},
     "output_type": "execute_result"
    }
   ],
   "source": [
    "jscatter.version_info"
   ]
  },
  {
   "cell_type": "markdown",
   "metadata": {},
   "source": [
    "First we generate some random points."
   ]
  },
  {
   "cell_type": "code",
   "execution_count": 17,
   "metadata": {},
   "outputs": [],
   "source": [
    "points = np.random.rand(500, 2)\n",
    "\n",
    "# optional associated numerical values\n",
    "values = np.random.rand(500)\n",
    "\n",
    "# optional associated categorical values\n",
    "categories = (np.random.rand(500) * 10).astype(np.uint8)"
   ]
  },
  {
   "cell_type": "markdown",
   "metadata": {},
   "source": [
    "Then we create the widget using the scatterplot's `plot()` function."
   ]
  },
  {
   "cell_type": "code",
   "execution_count": 18,
   "metadata": {},
   "outputs": [
    {
     "data": {
      "application/vnd.jupyter.widget-view+json": {
       "model_id": "c34971cfa4a44c64b2588791c41b9084",
       "version_major": 2,
       "version_minor": 0
      },
      "text/plain": [
       "JScatter(background_color=[1, 1, 1, 1], camera_distance=1.0, camera_target=[0, 0], height=240, lasso_color=[0,…"
      ]
     },
     "metadata": {},
     "output_type": "display_data"
    }
   ],
   "source": [
    "scatterplot = jscatter.plot(points, values=values, categories=categories)\n",
    "scatterplot"
   ]
  },
  {
   "cell_type": "markdown",
   "metadata": {},
   "source": [
    "The scatterplot is interactive! It supports pan-and-zoom, hover, click, and lasso interactions:\n",
    "\n",
    "- **Pan**: Click and drag your mouse.\n",
    "- **Zoom**: Scroll vertically.\n",
    "- **Select a single dot**: Click on a dot with your mouse.\n",
    "- **Select multiple dots**: While pressing <kbd>SHIFT</kbd>, click and drag your mouse. All items within the lasso will be selected.\n",
    "- **Deselect**: Double-click onto an empty region.\n",
    "- **Rotate**: While pressing <kbd>ALT</kbd>, click and drag your mouse.\n",
    "\n",
    "All interactions are reflected in the widget's model. And except for `hovered_point`, all properties can be adjusted in both ways.\n",
    "\n",
    "## Interactively Adjustements\n",
    "\n",
    "To streamline adjusting visual properties you can use `widget.display_options()`."
   ]
  },
  {
   "cell_type": "code",
   "execution_count": 19,
   "metadata": {},
   "outputs": [
    {
     "data": {
      "application/vnd.jupyter.widget-view+json": {
       "model_id": "4eb05612c5fd4847aa181bf19ce33e19",
       "version_major": 2,
       "version_minor": 0
      },
      "text/plain": [
       "HBox(children=(HTML(value='Height', layout=Layout(width='128px')), IntSlider(value=240, max=1280, min=128, ste…"
      ]
     },
     "metadata": {},
     "output_type": "display_data"
    },
    {
     "data": {
      "application/vnd.jupyter.widget-view+json": {
       "model_id": "a9a9aa5f2fd043eba1808be8d4516872",
       "version_major": 2,
       "version_minor": 0
      },
      "text/plain": [
       "HBox(children=(HTML(value='Point size', layout=Layout(width='128px')), IntSlider(value=4, max=10, min=1)))"
      ]
     },
     "metadata": {},
     "output_type": "display_data"
    },
    {
     "data": {
      "application/vnd.jupyter.widget-view+json": {
       "model_id": "70887c5e102548d284253cbe5bb56f63",
       "version_major": 2,
       "version_minor": 0
      },
      "text/plain": [
       "HBox(children=(HTML(value='Point opacity', layout=Layout(width='128px')), FloatSlider(value=1.0, max=1.0, step…"
      ]
     },
     "metadata": {},
     "output_type": "display_data"
    },
    {
     "data": {
      "application/vnd.jupyter.widget-view+json": {
       "model_id": "015429e7742c47bf892b8a1df2f4f847",
       "version_major": 2,
       "version_minor": 0
      },
      "text/plain": [
       "HBox(children=(HTML(value='Color by', layout=Layout(width='128px')), RadioButtons(options=(('Point color', 'no…"
      ]
     },
     "metadata": {},
     "output_type": "display_data"
    },
    {
     "data": {
      "application/vnd.jupyter.widget-view+json": {
       "model_id": "9e4fecf9f37b4a4cada83c414cd64958",
       "version_major": 2,
       "version_minor": 0
      },
      "text/plain": [
       "HBox(children=(HTML(value='Colormap', layout=Layout(width='128px')), Combobox(value='', disabled=True, ensure_…"
      ]
     },
     "metadata": {},
     "output_type": "display_data"
    },
    {
     "data": {
      "application/vnd.jupyter.widget-view+json": {
       "model_id": "9d392f26066240cb9cf2a6c0cedd715c",
       "version_major": 2,
       "version_minor": 0
      },
      "text/plain": [
       "HBox(children=(HTML(value='Point color', layout=Layout(width='128px')), ColorPicker(value='#a8a8a8')))"
      ]
     },
     "metadata": {},
     "output_type": "display_data"
    },
    {
     "data": {
      "application/vnd.jupyter.widget-view+json": {
       "model_id": "c4402761868845e7be0579ccf1fc6694",
       "version_major": 2,
       "version_minor": 0
      },
      "text/plain": [
       "HBox(children=(HTML(value='Point color active', layout=Layout(width='128px')), ColorPicker(value='#008cff')))"
      ]
     },
     "metadata": {},
     "output_type": "display_data"
    },
    {
     "data": {
      "application/vnd.jupyter.widget-view+json": {
       "model_id": "1d5ba61baf4645fb93926cc54d10d50e",
       "version_major": 2,
       "version_minor": 0
      },
      "text/plain": [
       "HBox(children=(HTML(value='Point color hover', layout=Layout(width='128px')), ColorPicker(value='#000000')))"
      ]
     },
     "metadata": {},
     "output_type": "display_data"
    },
    {
     "data": {
      "application/vnd.jupyter.widget-view+json": {
       "model_id": "9bf7080eeaac4153973920d3fc13ac53",
       "version_major": 2,
       "version_minor": 0
      },
      "text/plain": [
       "HBox(children=(HTML(value='Point outline width', layout=Layout(width='128px')), IntSlider(value=2, max=8)))"
      ]
     },
     "metadata": {},
     "output_type": "display_data"
    },
    {
     "data": {
      "application/vnd.jupyter.widget-view+json": {
       "model_id": "d177e3ac2c0b44968361338782079084",
       "version_major": 2,
       "version_minor": 0
      },
      "text/plain": [
       "HBox(children=(HTML(value='Point size selected', layout=Layout(width='128px')), IntSlider(value=2, max=8)))"
      ]
     },
     "metadata": {},
     "output_type": "display_data"
    },
    {
     "data": {
      "application/vnd.jupyter.widget-view+json": {
       "model_id": "7619d53dd16045918b47712de9ecabf7",
       "version_major": 2,
       "version_minor": 0
      },
      "text/plain": [
       "HBox(children=(HTML(value='Lasso color', layout=Layout(width='128px')), ColorPicker(value='#000000')))"
      ]
     },
     "metadata": {},
     "output_type": "display_data"
    },
    {
     "data": {
      "application/vnd.jupyter.widget-view+json": {
       "model_id": "9c3176cd993c4736b5886e792860c1fe",
       "version_major": 2,
       "version_minor": 0
      },
      "text/plain": [
       "HBox(children=(HTML(value='Recticle color', layout=Layout(width='128px')), ColorPicker(value='#008cff')))"
      ]
     },
     "metadata": {},
     "output_type": "display_data"
    },
    {
     "data": {
      "application/vnd.jupyter.widget-view+json": {
       "model_id": "afb2fca70dca44c39d904c8e6419d6d8",
       "version_major": 2,
       "version_minor": 0
      },
      "text/plain": [
       "HBox(children=(HTML(value='Show recticle', layout=Layout(width='128px')), Checkbox(value=False, indent=False))…"
      ]
     },
     "metadata": {},
     "output_type": "display_data"
    },
    {
     "data": {
      "application/vnd.jupyter.widget-view+json": {
       "model_id": "3bb49c29e76a49ec9d842270311bacc3",
       "version_major": 2,
       "version_minor": 0
      },
      "text/plain": [
       "HBox(children=(HTML(value='Background color', layout=Layout(width='128px')), ColorPicker(value='#ffffff')))"
      ]
     },
     "metadata": {},
     "output_type": "display_data"
    },
    {
     "data": {
      "application/vnd.jupyter.widget-view+json": {
       "model_id": "73fa47f97a3c4e95a71f3f4b6fa24768",
       "version_major": 2,
       "version_minor": 0
      },
      "text/plain": [
       "HBox(children=(HTML(value='Background image', layout=Layout(width='128px')), FileUpload(value={}, accept='imag…"
      ]
     },
     "metadata": {},
     "output_type": "display_data"
    }
   ],
   "source": [
    "scatterplot.options()"
   ]
  },
  {
   "cell_type": "markdown",
   "metadata": {},
   "source": [
    "It's also possible to show a single UI widget. Just append `_widget` to any of the option properties:\n",
    "\n",
    "- `background_color`\n",
    "- `background_image`\n",
    "- `color_by`\n",
    "- `height`\n",
    "- `lasso_color`\n",
    "- `point_color_active`\n",
    "- `point_color_hover`\n",
    "- `point_color`\n",
    "- `point_opacity`\n",
    "- `point_outline_width`\n",
    "- `point_size_selected`\n",
    "- `point_size`\n",
    "- `recticle_color`\n",
    "- `show_recticle`\n",
    "\n",
    "For instance:"
   ]
  },
  {
   "cell_type": "code",
   "execution_count": null,
   "metadata": {},
   "outputs": [],
   "source": [
    "scatterplot.point_size_widget"
   ]
  },
  {
   "cell_type": "markdown",
   "metadata": {},
   "source": [
    "## Select Points\n",
    "\n",
    "You can select points interactively using mouse click and lasso interactions as described above or you can programmatically select points. `widget.selected_points` is a list of point indices. For example, to select the first 10 points we can do:"
   ]
  },
  {
   "cell_type": "code",
   "execution_count": null,
   "metadata": {},
   "outputs": [],
   "source": [
    "scatterplot.selected_points = list(range(12))"
   ]
  },
  {
   "cell_type": "markdown",
   "metadata": {},
   "source": [
    "For convenience we provide two widgets to display the selected point indices and the index of the hovered point."
   ]
  },
  {
   "cell_type": "code",
   "execution_count": 20,
   "metadata": {},
   "outputs": [
    {
     "data": {
      "application/vnd.jupyter.widget-view+json": {
       "model_id": "6c7774ed6a7e43e39d3aad039402dc61",
       "version_major": 2,
       "version_minor": 0
      },
      "text/plain": [
       "HBox(children=(HTML(value='Hovered point', layout=Layout(width='128px')), Text(value='None', disabled=True, pl…"
      ]
     },
     "metadata": {},
     "output_type": "display_data"
    },
    {
     "data": {
      "application/vnd.jupyter.widget-view+json": {
       "model_id": "3f1abc8e36c4483798570799061dd048",
       "version_major": 2,
       "version_minor": 0
      },
      "text/plain": [
       "HBox(children=(HTML(value='Selected points', layout=Layout(width='128px')), Textarea(value='383', disabled=Tru…"
      ]
     },
     "metadata": {},
     "output_type": "display_data"
    }
   ],
   "source": [
    "display(scatterplot.hovered_point_widget, scatterplot.selected_points_widget)"
   ]
  },
  {
   "cell_type": "code",
   "execution_count": null,
   "metadata": {},
   "outputs": [],
   "source": []
  }
 ],
 "metadata": {
  "kernelspec": {
   "display_name": "Python 3",
   "language": "python",
   "name": "python3"
  },
  "language_info": {
   "codemirror_mode": {
    "name": "ipython",
    "version": 3
   },
   "file_extension": ".py",
   "mimetype": "text/x-python",
   "name": "python",
   "nbconvert_exporter": "python",
   "pygments_lexer": "ipython3",
   "version": "3.9.1"
  }
 },
 "nbformat": 4,
 "nbformat_minor": 4
}
