{
 "cells": [
  {
   "cell_type": "code",
   "execution_count": null,
   "metadata": {},
   "outputs": [],
   "source": [
    "import ipywidgets as widgets\n",
    "import numpy as np\n",
    "import jscatter\n",
    "\n",
    "from IPython.display import display"
   ]
  },
  {
   "cell_type": "markdown",
   "metadata": {},
   "source": [
    "First we generate some random points."
   ]
  },
  {
   "cell_type": "code",
   "execution_count": null,
   "metadata": {},
   "outputs": [],
   "source": [
    "n = 500\n",
    "\n",
    "points = np.random.rand(n, 2)\n",
    "\n",
    "# optional continuous values associated to the points\n",
    "values = np.random.rand(n)\n",
    "\n",
    "# optional: categories associated to the points\n",
    "categories = (np.random.rand(n) * 10).astype(int)"
   ]
  },
  {
   "cell_type": "markdown",
   "metadata": {},
   "source": [
    "Then we create the widget using the scatterplot's `plot()` function."
   ]
  },
  {
   "cell_type": "code",
   "execution_count": null,
   "metadata": {},
   "outputs": [],
   "source": [
    "scatterplot = jscatter.plot(points, categories, values)\n",
    "scatterplot.show()"
   ]
  },
  {
   "cell_type": "markdown",
   "metadata": {},
   "source": [
    "The scatter plot is interactive! It supports pan-and-zoom, hover, click, and lasso interactions:\n",
    "\n",
    "- **Pan**: Click and drag your mouse.\n",
    "- **Zoom**: Scroll vertically.\n",
    "- **Select a single dot**: Click on a dot with your mouse.\n",
    "- **Select multiple dots**: While pressing <kbd>SHIFT</kbd>, click and drag your mouse. All items within the lasso will be selected.\n",
    "- **Deselect**: Double-click onto an empty region.\n",
    "- **Rotate**: While pressing <kbd>ALT</kbd>, click and drag your mouse.\n",
    "\n",
    "The best part, the point selection is reflected in `scatterplot.selected_points`. And you can even adjusted the selection in both ways!\n",
    "\n",
    "The selection isn't of course not the only thing you can adjust so keep reading!\n",
    "\n",
    "## Properties\n",
    "\n",
    "You can adjust the scatter plot to your needs by adjusting the following properties:\n",
    "\n",
    "**Data:**\n",
    "\n",
    "- `points` [list]\n",
    "- `selected_points` [list]\n",
    "- `hovered_point` [int] (read only)\n",
    "\n",
    "**Camera:**\n",
    "\n",
    "- `camera_target` [tuple]\n",
    "- `camera_distance` [float]\n",
    "- `camera_rotation` [float]\n",
    "- `camera_view` [list]\n",
    "\n",
    "**Visual:**\n",
    "\n",
    "- `color_by` [None, 'category', or 'value']\n",
    "- `height` [int]\n",
    "- `background_color` [string|quadruple]\n",
    "- `background_image` [string]\n",
    "- `lasso_color` [string|quadruple]\n",
    "- `lasso_min_delay` [int]\n",
    "- `lasso_min_dist` [float]\n",
    "- `point_color` [string|quadruple]\n",
    "- `point_color_active` [string|quadruple]\n",
    "- `point_color_hover` [string|quadruple]\n",
    "- `point_opacity` [float]\n",
    "- `point_size` [int]\n",
    "- `point_size_selected` [int]\n",
    "- `point_outline_width` [int]\n",
    "- `show_recticle` [bool]\n",
    "- `recticle_color` [string|quadruple]\n",
    "\n",
    "**Other Options:**\n",
    "\n",
    "- `other_options` [dict]: for all other properties understood by [regl-scatterplot](https://github.com/flekschas/regl-scatterplot#scatterplot.set)\n",
    "\n",
    "For instance, the following call will activate the recticle that is being shown upon hovering a dot in the plot above:"
   ]
  },
  {
   "cell_type": "code",
   "execution_count": null,
   "metadata": {},
   "outputs": [],
   "source": [
    "scatterplot.show_recticle = True"
   ]
  },
  {
   "cell_type": "markdown",
   "metadata": {},
   "source": [
    "## Interactively Adjusting Options\n",
    "\n",
    "To streamline adjusting visual options you can use `scatterplot.options()`."
   ]
  },
  {
   "cell_type": "code",
   "execution_count": null,
   "metadata": {},
   "outputs": [],
   "source": [
    "scatterplot.options()"
   ]
  },
  {
   "cell_type": "markdown",
   "metadata": {},
   "source": [
    "It's also possible to display a individual UI widgets. Simply append `_widget` to any of the options mentioned above. For instance:"
   ]
  },
  {
   "cell_type": "code",
   "execution_count": null,
   "metadata": {},
   "outputs": [],
   "source": [
    "scatterplot.point_size_widget"
   ]
  },
  {
   "cell_type": "markdown",
   "metadata": {},
   "source": [
    "## Select Points\n",
    "\n",
    "You can select points interactively using mouse click and lasso interactions as described above or you can programmatically select points. `scatterplot.selected_points` is a list of point indices. For example, to select the first 10 points we can do:"
   ]
  },
  {
   "cell_type": "code",
   "execution_count": null,
   "metadata": {},
   "outputs": [],
   "source": [
    "scatterplot.selected_points = list(range(12))"
   ]
  },
  {
   "cell_type": "markdown",
   "metadata": {},
   "source": [
    "For convenience we provide two widgets to display the selected point indices and the index of the hovered point."
   ]
  },
  {
   "cell_type": "code",
   "execution_count": null,
   "metadata": {},
   "outputs": [],
   "source": [
    "display(scatterplot.hovered_point_widget, scatterplot.selected_points_widget)"
   ]
  },
  {
   "cell_type": "code",
   "execution_count": null,
   "metadata": {},
   "outputs": [],
   "source": []
  }
 ],
 "metadata": {
  "kernelspec": {
   "display_name": "Python 3",
   "language": "python",
   "name": "python3"
  },
  "language_info": {
   "codemirror_mode": {
    "name": "ipython",
    "version": 3
   },
   "file_extension": ".py",
   "mimetype": "text/x-python",
   "name": "python",
   "nbconvert_exporter": "python",
   "pygments_lexer": "ipython3",
   "version": "3.9.1"
  }
 },
 "nbformat": 4,
 "nbformat_minor": 4
}
