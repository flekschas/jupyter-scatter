{
 "cells": [
  {
   "cell_type": "code",
   "execution_count": 1,
   "metadata": {},
   "outputs": [],
   "source": [
    "import ipywidgets as widgets\n",
    "import numpy as np\n",
    "import scatterplot\n",
    "\n",
    "from IPython.display import display"
   ]
  },
  {
   "cell_type": "markdown",
   "metadata": {},
   "source": [
    "First we generate some random points."
   ]
  },
  {
   "cell_type": "code",
   "execution_count": 2,
   "metadata": {},
   "outputs": [],
   "source": [
    "points = np.random.rand(500, 2) # x,y position\n",
    "values = np.random.rand(500) # an associated numerical value\n",
    "categories = (np.random.rand(500) * 10).astype(np.uint8) # an associated categorical value"
   ]
  },
  {
   "cell_type": "markdown",
   "metadata": {},
   "source": [
    "Then we create the widget using the scatterplot's `display()` function."
   ]
  },
  {
   "cell_type": "code",
   "execution_count": 3,
   "metadata": {},
   "outputs": [
    {
     "data": {
      "application/vnd.jupyter.widget-view+json": {
       "model_id": "bcc26e0fe9214162b1cb3f8cb55508e7",
       "version_major": 2,
       "version_minor": 0
      },
      "text/plain": [
       "Scatterplot(background_color=[1, 1, 1, 1], camera_distance=1.0, camera_target=[0, 0], height=240, lasso_color=…"
      ]
     },
     "metadata": {},
     "output_type": "display_data"
    }
   ],
   "source": [
    "widget = scatterplot.display(points, values=values, categories=categories)\n",
    "widget"
   ]
  },
  {
   "cell_type": "markdown",
   "metadata": {},
   "source": [
    "The scatterplot is interactive! It supports pan-and-zoom, hover, click, and lasso interactions:\n",
    "\n",
    "- **Pan**: Click and drag your mouse.\n",
    "- **Zoom**: Scroll vertically.\n",
    "- **Rotate**: While pressing <kbd>ALT</kbd>, click and drag your mouse.\n",
    "- **Select a single dot**: Click on a dot with your mouse.\n",
    "- **Select multiple dots**: While pressing <kbd>SHIFT</kbd>, click and drag your mouse. All items within the lasso will be selected.\n",
    "- **Deselect**: Double-click onto an empty region.\n",
    "\n",
    "All interactions are reflected in the widget's model. And except for `hovered_point`, all properties can be adjusted in both ways.\n",
    "\n",
    "## Interactively Adjustements\n",
    "\n",
    "To streamline adjusting visual properties you can use `widget.display_options()`."
   ]
  },
  {
   "cell_type": "code",
   "execution_count": 4,
   "metadata": {},
   "outputs": [
    {
     "data": {
      "application/vnd.jupyter.widget-view+json": {
       "model_id": "6632a9d724074d2c8d9bc897c5eacfa9",
       "version_major": 2,
       "version_minor": 0
      },
      "text/plain": [
       "HBox(children=(HTML(value='Height', layout=Layout(width='128px')), IntSlider(value=240, max=1280, min=128, ste…"
      ]
     },
     "metadata": {},
     "output_type": "display_data"
    },
    {
     "data": {
      "application/vnd.jupyter.widget-view+json": {
       "model_id": "d9b4ee0920ad4bdfa3b9dc5640778e5b",
       "version_major": 2,
       "version_minor": 0
      },
      "text/plain": [
       "HBox(children=(HTML(value='Point size', layout=Layout(width='128px')), IntSlider(value=4, max=10, min=1)))"
      ]
     },
     "metadata": {},
     "output_type": "display_data"
    },
    {
     "data": {
      "application/vnd.jupyter.widget-view+json": {
       "model_id": "53ac308e9473445a81a5ef6ac1f65b33",
       "version_major": 2,
       "version_minor": 0
      },
      "text/plain": [
       "HBox(children=(HTML(value='Point opacity', layout=Layout(width='128px')), FloatSlider(value=1.0, max=1.0, step…"
      ]
     },
     "metadata": {},
     "output_type": "display_data"
    },
    {
     "data": {
      "application/vnd.jupyter.widget-view+json": {
       "model_id": "7baf2b72031d4f6fb70cfd005df5697d",
       "version_major": 2,
       "version_minor": 0
      },
      "text/plain": [
       "HBox(children=(HTML(value='Color by', layout=Layout(width='128px')), RadioButtons(options=(('Point color', 'no…"
      ]
     },
     "metadata": {},
     "output_type": "display_data"
    },
    {
     "data": {
      "application/vnd.jupyter.widget-view+json": {
       "model_id": "a2ac09ac0d0f4e26addd457db9c3b710",
       "version_major": 2,
       "version_minor": 0
      },
      "text/plain": [
       "HBox(children=(HTML(value='Colormap', layout=Layout(width='128px')), Combobox(value='', disabled=True, ensure_…"
      ]
     },
     "metadata": {},
     "output_type": "display_data"
    },
    {
     "data": {
      "application/vnd.jupyter.widget-view+json": {
       "model_id": "9292401463e24939b3262aae34d73d42",
       "version_major": 2,
       "version_minor": 0
      },
      "text/plain": [
       "HBox(children=(HTML(value='Point color', layout=Layout(width='128px')), ColorPicker(value='#a8a8a8')))"
      ]
     },
     "metadata": {},
     "output_type": "display_data"
    },
    {
     "data": {
      "application/vnd.jupyter.widget-view+json": {
       "model_id": "e248fe740e734a11a4e1120bfaf544af",
       "version_major": 2,
       "version_minor": 0
      },
      "text/plain": [
       "HBox(children=(HTML(value='Point color active', layout=Layout(width='128px')), ColorPicker(value='#008cff')))"
      ]
     },
     "metadata": {},
     "output_type": "display_data"
    },
    {
     "data": {
      "application/vnd.jupyter.widget-view+json": {
       "model_id": "22ae19c924474285ade86828eec47786",
       "version_major": 2,
       "version_minor": 0
      },
      "text/plain": [
       "HBox(children=(HTML(value='Point color hover', layout=Layout(width='128px')), ColorPicker(value='#000000')))"
      ]
     },
     "metadata": {},
     "output_type": "display_data"
    },
    {
     "data": {
      "application/vnd.jupyter.widget-view+json": {
       "model_id": "4200312bcd174225bd5d7e7dfee03868",
       "version_major": 2,
       "version_minor": 0
      },
      "text/plain": [
       "HBox(children=(HTML(value='Point outline width', layout=Layout(width='128px')), IntSlider(value=2, max=8)))"
      ]
     },
     "metadata": {},
     "output_type": "display_data"
    },
    {
     "data": {
      "application/vnd.jupyter.widget-view+json": {
       "model_id": "56a9d260e8914d49a1228578a69b6a3f",
       "version_major": 2,
       "version_minor": 0
      },
      "text/plain": [
       "HBox(children=(HTML(value='Point size selected', layout=Layout(width='128px')), IntSlider(value=2, max=8)))"
      ]
     },
     "metadata": {},
     "output_type": "display_data"
    },
    {
     "data": {
      "application/vnd.jupyter.widget-view+json": {
       "model_id": "e671269d184c41d5bfe78c4db2d4dcd9",
       "version_major": 2,
       "version_minor": 0
      },
      "text/plain": [
       "HBox(children=(HTML(value='Lasso color', layout=Layout(width='128px')), ColorPicker(value='#000000')))"
      ]
     },
     "metadata": {},
     "output_type": "display_data"
    },
    {
     "data": {
      "application/vnd.jupyter.widget-view+json": {
       "model_id": "337e860dda704f6cbf77f84807647191",
       "version_major": 2,
       "version_minor": 0
      },
      "text/plain": [
       "HBox(children=(HTML(value='Recticle color', layout=Layout(width='128px')), ColorPicker(value='#008cff')))"
      ]
     },
     "metadata": {},
     "output_type": "display_data"
    },
    {
     "data": {
      "application/vnd.jupyter.widget-view+json": {
       "model_id": "6eb184cb329c49abb680b154bae4ff62",
       "version_major": 2,
       "version_minor": 0
      },
      "text/plain": [
       "HBox(children=(HTML(value='Show recticle', layout=Layout(width='128px')), Checkbox(value=False, indent=False))…"
      ]
     },
     "metadata": {},
     "output_type": "display_data"
    },
    {
     "data": {
      "application/vnd.jupyter.widget-view+json": {
       "model_id": "271cabcabf6d4f08ada813174ab208e8",
       "version_major": 2,
       "version_minor": 0
      },
      "text/plain": [
       "HBox(children=(HTML(value='Background color', layout=Layout(width='128px')), ColorPicker(value='#ffffff')))"
      ]
     },
     "metadata": {},
     "output_type": "display_data"
    },
    {
     "data": {
      "application/vnd.jupyter.widget-view+json": {
       "model_id": "9f25c423bec040c8b548864e82be149f",
       "version_major": 2,
       "version_minor": 0
      },
      "text/plain": [
       "HBox(children=(HTML(value='Background image', layout=Layout(width='128px')), FileUpload(value={}, accept='imag…"
      ]
     },
     "metadata": {},
     "output_type": "display_data"
    }
   ],
   "source": [
    "widget.display_options()"
   ]
  },
  {
   "cell_type": "markdown",
   "metadata": {},
   "source": [
    "Of course, it's also possible to only display a single widget. Just append `_widget` to any of the option properties:\n",
    "\n",
    "- `background_color`\n",
    "- `background_image`\n",
    "- `color_by`\n",
    "- `height`\n",
    "- `lasso_color`\n",
    "- `point_color_active`\n",
    "- `point_color_hover`\n",
    "- `point_color`\n",
    "- `point_opacity`\n",
    "- `point_outline_width`\n",
    "- `point_size_selected`\n",
    "- `point_size`\n",
    "- `recticle_color`\n",
    "- `show_recticle`\n",
    "\n",
    "For instance:"
   ]
  },
  {
   "cell_type": "code",
   "execution_count": 5,
   "metadata": {},
   "outputs": [
    {
     "data": {
      "application/vnd.jupyter.widget-view+json": {
       "model_id": "a4f069334027404c93bca55a4f390266",
       "version_major": 2,
       "version_minor": 0
      },
      "text/plain": [
       "HBox(children=(HTML(value='Point size', layout=Layout(width='128px')), IntSlider(value=4, max=10, min=1)))"
      ]
     },
     "metadata": {},
     "output_type": "display_data"
    }
   ],
   "source": [
    "widget.point_size_widget"
   ]
  },
  {
   "cell_type": "markdown",
   "metadata": {},
   "source": [
    "## Select Points\n",
    "\n",
    "You can select points interactively using mouse click and lasso interactions as described above or you can programmatically select points. `widget.selected_points` is a list of point indices. For example, to select the first 10 points we can do:"
   ]
  },
  {
   "cell_type": "code",
   "execution_count": 6,
   "metadata": {},
   "outputs": [],
   "source": [
    "widget.selected_points = list(range(12))"
   ]
  },
  {
   "cell_type": "markdown",
   "metadata": {},
   "source": [
    "For convenience we provide two widgets to display the selected point indices and the index of the hovered point."
   ]
  },
  {
   "cell_type": "code",
   "execution_count": 7,
   "metadata": {},
   "outputs": [
    {
     "data": {
      "application/vnd.jupyter.widget-view+json": {
       "model_id": "5173e8f648e34195844a469ceebe71e1",
       "version_major": 2,
       "version_minor": 0
      },
      "text/plain": [
       "HBox(children=(HTML(value='Hovered point', layout=Layout(width='128px')), Text(value='None', disabled=True, pl…"
      ]
     },
     "metadata": {},
     "output_type": "display_data"
    },
    {
     "data": {
      "application/vnd.jupyter.widget-view+json": {
       "model_id": "c755637ba3f54b06b9a38f3959bb39f2",
       "version_major": 2,
       "version_minor": 0
      },
      "text/plain": [
       "HBox(children=(HTML(value='Selected points', layout=Layout(width='128px')), Textarea(value='0, 1, 2, 3, 4, 5, …"
      ]
     },
     "metadata": {},
     "output_type": "display_data"
    }
   ],
   "source": [
    "display(widget.hovered_point_widget, widget.selected_points_widget)"
   ]
  },
  {
   "cell_type": "code",
   "execution_count": null,
   "metadata": {},
   "outputs": [],
   "source": []
  }
 ],
 "metadata": {
  "kernelspec": {
   "display_name": "Python 3",
   "language": "python",
   "name": "python3"
  },
  "language_info": {
   "codemirror_mode": {
    "name": "ipython",
    "version": 3
   },
   "file_extension": ".py",
   "mimetype": "text/x-python",
   "name": "python",
   "nbconvert_exporter": "python",
   "pygments_lexer": "ipython3",
   "version": "3.8.3"
  }
 },
 "nbformat": 4,
 "nbformat_minor": 4
}
