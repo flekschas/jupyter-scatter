{
 "cells": [
  {
   "cell_type": "code",
   "execution_count": 1,
   "metadata": {},
   "outputs": [],
   "source": [
    "import ipywidgets as widgets\n",
    "import numpy as np\n",
    "import scatterplot\n",
    "\n",
    "from IPython.display import display"
   ]
  },
  {
   "cell_type": "markdown",
   "metadata": {},
   "source": [
    "First we generate some random points."
   ]
  },
  {
   "cell_type": "code",
   "execution_count": 2,
   "metadata": {},
   "outputs": [],
   "source": [
    "points = np.random.rand(500, 2) # x,y position\n",
    "values = np.random.rand(500) # an associated numerical value\n",
    "categories = (np.random.rand(500) * 10).astype(np.uint8) # an associated categorical value"
   ]
  },
  {
   "cell_type": "markdown",
   "metadata": {},
   "source": [
    "Then we create the widget using the scatterplot's `display()` function."
   ]
  },
  {
   "cell_type": "code",
   "execution_count": 3,
   "metadata": {},
   "outputs": [
    {
     "data": {
      "application/vnd.jupyter.widget-view+json": {
       "model_id": "d05d39b0733743ab8a8617eb41824647",
       "version_major": 2,
       "version_minor": 0
      },
      "text/plain": [
       "Scatterplot(background_color=[1, 1, 1, 1], camera_distance=1.0, camera_target=[0, 0], height=240, lasso_color=…"
      ]
     },
     "metadata": {},
     "output_type": "display_data"
    }
   ],
   "source": [
    "widget = scatterplot.display(points, values=values, categories=categories)\n",
    "widget"
   ]
  },
  {
   "cell_type": "markdown",
   "metadata": {},
   "source": [
    "The scatterplot is interactive! It supports pan-and-zoom, hover, click, and lasso interactions:\n",
    "\n",
    "- **Pan**: Click and drag your mouse.\n",
    "- **Zoom**: Scroll vertically.\n",
    "- **Rotate**: While pressing <kbd>ALT</kbd>, click and drag your mouse.\n",
    "- **Select a single dot**: Click on a dot with your mouse.\n",
    "- **Select multiple dots**: While pressing <kbd>SHIFT</kbd>, click and drag your mouse. All items within the lasso will be selected.\n",
    "- **Deselect**: Double-click onto an empty region.\n",
    "\n",
    "All interactions are reflected in the widget's model. And except for `hovered_point`, all properties can be adjusted in both ways.\n",
    "\n",
    "## Interactively Adjustements\n",
    "\n",
    "To streamline adjusting visual properties you can use `widget.display_options()`."
   ]
  },
  {
   "cell_type": "code",
   "execution_count": null,
   "metadata": {},
   "outputs": [],
   "source": [
    "widget.display_options()"
   ]
  },
  {
   "cell_type": "markdown",
   "metadata": {},
   "source": [
    "Of course, it's also possible to only display a single widget. Just append `_widget` to any of the option properties:\n",
    "\n",
    "- `background_color`\n",
    "- `background_image`\n",
    "- `color_by`\n",
    "- `height`\n",
    "- `lasso_color`\n",
    "- `point_color_active`\n",
    "- `point_color_hover`\n",
    "- `point_color`\n",
    "- `point_opacity`\n",
    "- `point_outline_width`\n",
    "- `point_size_selected`\n",
    "- `point_size`\n",
    "- `recticle_color`\n",
    "- `show_recticle`\n",
    "\n",
    "For instance:"
   ]
  },
  {
   "cell_type": "code",
   "execution_count": null,
   "metadata": {},
   "outputs": [],
   "source": [
    "widget.point_size_widget"
   ]
  },
  {
   "cell_type": "markdown",
   "metadata": {},
   "source": [
    "## Select Points\n",
    "\n",
    "You can select points interactively using mouse click and lasso interactions as described above or you can programmatically select points. `widget.selected_points` is a list of point indices. For example, to select the first 10 points we can do:"
   ]
  },
  {
   "cell_type": "code",
   "execution_count": 6,
   "metadata": {},
   "outputs": [],
   "source": [
    "widget.selected_points = list(range(12))"
   ]
  },
  {
   "cell_type": "markdown",
   "metadata": {},
   "source": [
    "For convenience we provide two widgets to display the selected point indices and the index of the hovered point."
   ]
  },
  {
   "cell_type": "code",
   "execution_count": 5,
   "metadata": {},
   "outputs": [
    {
     "data": {
      "application/vnd.jupyter.widget-view+json": {
       "model_id": "8da3f7fd32e541e0a63e7252be5d936e",
       "version_major": 2,
       "version_minor": 0
      },
      "text/plain": [
       "HBox(children=(HTML(value='Hovered point', layout=Layout(width='128px')), Text(value='None', disabled=True, pl…"
      ]
     },
     "metadata": {},
     "output_type": "display_data"
    },
    {
     "data": {
      "application/vnd.jupyter.widget-view+json": {
       "model_id": "d6602ac62f1e4584822cb2f9614fe416",
       "version_major": 2,
       "version_minor": 0
      },
      "text/plain": [
       "HBox(children=(HTML(value='Selected points', layout=Layout(width='128px')), Textarea(value='0, 1, 2, 3, 4, 5, …"
      ]
     },
     "metadata": {},
     "output_type": "display_data"
    }
   ],
   "source": [
    "display(widget.hovered_point_widget, widget.selected_points_widget)"
   ]
  },
  {
   "cell_type": "code",
   "execution_count": null,
   "metadata": {},
   "outputs": [],
   "source": []
  }
 ],
 "metadata": {
  "kernelspec": {
   "display_name": "Python 3",
   "language": "python",
   "name": "python3"
  },
  "language_info": {
   "codemirror_mode": {
    "name": "ipython",
    "version": 3
   },
   "file_extension": ".py",
   "mimetype": "text/x-python",
   "name": "python",
   "nbconvert_exporter": "python",
   "pygments_lexer": "ipython3",
   "version": "3.8.3"
  }
 },
 "nbformat": 4,
 "nbformat_minor": 4
}
