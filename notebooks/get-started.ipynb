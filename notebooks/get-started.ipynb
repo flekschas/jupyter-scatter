{
 "cells": [
  {
   "cell_type": "markdown",
   "metadata": {},
   "source": [
    "# Getting Started\n",
    "\n",
    "The following examples match the code from the _Getting Started_ section of the `README.md`.\n",
    "\n",
    "### Simplest Example\n",
    "\n",
    "In the simplest case, you can pass the x/y coordinates to the plot function as follows."
   ]
  },
  {
   "cell_type": "code",
   "execution_count": 1,
   "metadata": {},
   "outputs": [
    {
     "data": {
      "application/vnd.jupyter.widget-view+json": {
       "model_id": "c201de9d84844b928b0b89ce96cbebc9",
       "version_major": 2,
       "version_minor": 0
      },
      "text/plain": [
       "HBox(children=(VBox(children=(Button(button_style='primary', icon='arrows', layout=Layout(width='36px'), style…"
      ]
     },
     "metadata": {},
     "output_type": "display_data"
    }
   ],
   "source": [
    "import jscatter\n",
    "import numpy as np\n",
    "\n",
    "x = np.random.rand(500)\n",
    "y = np.random.rand(500)\n",
    "\n",
    "jscatter.plot(x, y)"
   ]
  },
  {
   "cell_type": "markdown",
   "metadata": {},
   "source": [
    "### Pandas example\n",
    "\n",
    "If your data is stored in a Pandas dataframe, you can reference columns via their name."
   ]
  },
  {
   "cell_type": "code",
   "execution_count": 2,
   "metadata": {},
   "outputs": [
    {
     "data": {
      "application/vnd.jupyter.widget-view+json": {
       "model_id": "df5617e66be74101817b85a5e817482f",
       "version_major": 2,
       "version_minor": 0
      },
      "text/plain": [
       "HBox(children=(VBox(children=(Button(button_style='primary', icon='arrows', layout=Layout(width='36px'), style…"
      ]
     },
     "metadata": {},
     "output_type": "display_data"
    }
   ],
   "source": [
    "import pandas as pd\n",
    "\n",
    "data = np.random.rand(500, 4)\n",
    "data[:,3] = np.round(data[:,3] * 7).astype(int)\n",
    "\n",
    "df = pd.DataFrame(data, columns=['mass', 'speed', 'pval', 'group'])\n",
    "df['group'] = df['group'].astype('int').astype('category').map(lambda c: chr(65 + c), na_action=None)\n",
    "\n",
    "jscatter.plot(data=df, x='mass', y='speed')"
   ]
  },
  {
   "cell_type": "markdown",
   "metadata": {},
   "source": [
    "### Advanced example\n",
    "\n",
    "Often you want to customize the visual encoding, such as the point color, size, and opacity."
   ]
  },
  {
   "cell_type": "code",
   "execution_count": 3,
   "metadata": {},
   "outputs": [
    {
     "data": {
      "application/vnd.jupyter.widget-view+json": {
       "model_id": "bc81a990588a49a6961a6d7eb833d888",
       "version_major": 2,
       "version_minor": 0
      },
      "text/plain": [
       "HBox(children=(VBox(children=(Button(button_style='primary', icon='arrows', layout=Layout(width='36px'), style…"
      ]
     },
     "metadata": {},
     "output_type": "display_data"
    }
   ],
   "source": [
    "jscatter.plot(\n",
    "  data=df,\n",
    "  x='mass',\n",
    "  y='speed',\n",
    "  size=8, # static encoding\n",
    "  color_by='group', # data-driven encoding\n",
    "  opacity_by='density', # view-driven encoding\n",
    ")"
   ]
  },
  {
   "cell_type": "markdown",
   "metadata": {},
   "source": [
    "In the above example, we chose a static point size of `8`. In contrast, the point color is data-driven and assigned based on the `group` value. The point opacity is view-driven and defined dynamically by the number of points currently visible in the view.\n",
    "\n",
    "Also notice how jscatter uses an appropriate color map by default based on the data type used for color encoding. In this examples, jscatter uses the color blindness safe color map from [Okabe and Ito](https://jfly.uni-koeln.de/color/#pallet) as the number of categories is less than `9`.\n",
    "\n",
    "You can of course customize the color map and many other parameters of the visual encoding as shown next.\n",
    "\n",
    "### Functional API example\n",
    "\n",
    "The flat API (from above), can get overwhelming when you want to customize a lot of properties. Therefore, jscatter provides a functional API that groups properties by type."
   ]
  },
  {
   "cell_type": "code",
   "execution_count": 4,
   "metadata": {},
   "outputs": [
    {
     "data": {
      "application/vnd.jupyter.widget-view+json": {
       "model_id": "cb10b4cfc61d47078010bde36c01680c",
       "version_major": 2,
       "version_minor": 0
      },
      "text/plain": [
       "HBox(children=(VBox(children=(Button(button_style='primary', icon='arrows', layout=Layout(width='36px'), style…"
      ]
     },
     "metadata": {},
     "output_type": "display_data"
    }
   ],
   "source": [
    "scatter = jscatter.Scatter(data=df, x='mass', y='speed')\n",
    "scatter.selection(df.query('mass < 0.5').index)\n",
    "scatter.color(by='mass', map='plasma', order='reverse')\n",
    "scatter.opacity(by='density')\n",
    "scatter.size(by='pval', map=[2, 4, 6, 8, 10])\n",
    "scatter.height(300)\n",
    "scatter.background('black')\n",
    "scatter.show()"
   ]
  },
  {
   "cell_type": "markdown",
   "metadata": {},
   "source": [
    "The scatter plot is **interactive**! It supports pan-and-zoom, hover, click, and lasso interactions:\n",
    "\n",
    "- **Pan**: Click and drag your mouse.\n",
    "- **Zoom**: Scroll vertically.\n",
    "- **Select a single dot**: Click on a dot with your mouse.\n",
    "- **Select multiple dots**: While pressing <kbd>SHIFT</kbd>, click and drag your mouse. All items within the lasso will be selected. You can also click once into the void and a translucent circle will appear. When you mousedown into this circle and then drag the mouse you can also lasso-select points!\n",
    "- **Deselect**: Double-click onto an empty region.\n",
    "- **Rotate**: While pressing <kbd>ALT</kbd>, click and drag your mouse.\n",
    "\n",
    "Moreover, you can also update the plot dynamically with Python after having called `scatter.show()`. For instance, the following call will swap the x and y axes. The transition is animated to better follow the change."
   ]
  },
  {
   "cell_type": "code",
   "execution_count": 5,
   "metadata": {},
   "outputs": [],
   "source": [
    "scatter.xy(x='speed', y='mass')"
   ]
  },
  {
   "cell_type": "markdown",
   "metadata": {},
   "source": [
    "Finally, all arguments are optional. If you specify an argument, the function will act as a setter and change the property. If you call a function without any arguments it will act as a getter and return the property (or properties). For example, `scatter.selection()` will return the _currently_ selected points."
   ]
  },
  {
   "cell_type": "code",
   "execution_count": 6,
   "metadata": {},
   "outputs": [
    {
     "data": {
      "text/plain": [
       "array([  1,   2,   3,   4,   9,  12,  13,  16,  17,  19,  20,  21,  22,\n",
       "        23,  24,  25,  29,  33,  35,  36,  37,  38,  39,  40,  41,  43,\n",
       "        44,  46,  51,  54,  59,  60,  61,  63,  64,  67,  68,  70,  73,\n",
       "        74,  77,  78,  79,  80,  82,  83,  86,  91,  92,  95,  97,  98,\n",
       "       101, 103, 104, 105, 106, 108, 110, 112, 113, 114, 116, 117, 118,\n",
       "       119, 121, 126, 128, 129, 130, 131, 132, 133, 134, 136, 138, 140,\n",
       "       141, 142, 144, 148, 149, 151, 152, 153, 158, 160, 164, 165, 171,\n",
       "       176, 179, 181, 182, 183, 185, 186, 187, 188, 189, 190, 192, 193,\n",
       "       194, 195, 198, 199, 201, 203, 204, 205, 206, 207, 208, 209, 215,\n",
       "       216, 217, 218, 221, 222, 223, 224, 225, 226, 227, 228, 229, 235,\n",
       "       237, 239, 240, 241, 244, 245, 247, 249, 250, 253, 256, 258, 259,\n",
       "       262, 263, 264, 266, 268, 269, 271, 272, 275, 276, 279, 285, 286,\n",
       "       287, 289, 291, 292, 293, 294, 295, 296, 298, 299, 301, 305, 307,\n",
       "       308, 309, 310, 315, 317, 318, 319, 320, 322, 326, 330, 332, 333,\n",
       "       334, 337, 341, 345, 346, 348, 349, 352, 355, 357, 358, 360, 366,\n",
       "       367, 369, 370, 371, 373, 374, 376, 378, 380, 381, 382, 383, 385,\n",
       "       386, 390, 391, 394, 396, 398, 399, 400, 402, 403, 404, 407, 408,\n",
       "       409, 411, 412, 416, 417, 418, 420, 421, 423, 424, 426, 427, 429,\n",
       "       430, 433, 434, 442, 443, 446, 448, 449, 451, 452, 454, 456, 457,\n",
       "       463, 464, 465, 473, 476, 477, 478, 480, 484, 485, 490, 491, 492,\n",
       "       493, 496, 498])"
      ]
     },
     "execution_count": 6,
     "metadata": {},
     "output_type": "execute_result"
    }
   ],
   "source": [
    "scatter.selection()"
   ]
  },
  {
   "cell_type": "code",
   "execution_count": null,
   "metadata": {},
   "outputs": [],
   "source": []
  }
 ],
 "metadata": {
  "kernelspec": {
   "display_name": "Python 3",
   "language": "python",
   "name": "python3"
  },
  "language_info": {
   "codemirror_mode": {
    "name": "ipython",
    "version": 3
   },
   "file_extension": ".py",
   "mimetype": "text/x-python",
   "name": "python",
   "nbconvert_exporter": "python",
   "pygments_lexer": "ipython3",
   "version": "3.9.1"
  }
 },
 "nbformat": 4,
 "nbformat_minor": 4
}
