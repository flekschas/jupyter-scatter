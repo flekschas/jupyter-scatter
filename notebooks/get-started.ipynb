{
 "cells": [
  {
   "cell_type": "markdown",
   "metadata": {},
   "source": [
    "# Getting Started\n",
    "\n",
    "The following examples match the code from the _Getting Started_ section of the `README.md`.\n",
    "\n",
    "### Simplest Example\n",
    "\n",
    "In the simplest case, you can pass the x/y coordinates to the plot function as follows."
   ]
  },
  {
   "cell_type": "code",
   "execution_count": 3,
   "metadata": {},
   "outputs": [
    {
     "data": {
      "application/vnd.jupyter.widget-view+json": {
       "model_id": "ee4688900ae14b7e93fdfb0d1c18c633",
       "version_major": 2,
       "version_minor": 0
      },
      "text/plain": [
       "HBox(children=(VBox(children=(Button(button_style='primary', icon='arrows', layout=Layout(width='36px'), style…"
      ]
     },
     "metadata": {},
     "output_type": "display_data"
    }
   ],
   "source": [
    "import jscatter\n",
    "import numpy as np\n",
    "\n",
    "x = np.random.rand(500)\n",
    "y = np.random.rand(500)\n",
    "\n",
    "jscatter.plot(x, y)"
   ]
  },
  {
   "cell_type": "markdown",
   "metadata": {},
   "source": [
    "### Pandas example\n",
    "\n",
    "If your data is stored in a Pandas dataframe, you can reference columns via their name."
   ]
  },
  {
   "cell_type": "code",
   "execution_count": 4,
   "metadata": {},
   "outputs": [
    {
     "data": {
      "application/vnd.jupyter.widget-view+json": {
       "model_id": "586a3d7881554482961b9479a8e3fb24",
       "version_major": 2,
       "version_minor": 0
      },
      "text/plain": [
       "HBox(children=(VBox(children=(Button(button_style='primary', icon='arrows', layout=Layout(width='36px'), style…"
      ]
     },
     "metadata": {},
     "output_type": "display_data"
    }
   ],
   "source": [
    "import pandas as pd\n",
    "\n",
    "data = np.random.rand(500, 4)\n",
    "data[:,3] = np.round(data[:,3] * 7).astype(int)\n",
    "\n",
    "df = pd.DataFrame(data, columns=['mass', 'speed', 'pval', 'group'])\n",
    "df['group'] = df['group'].astype('int').astype('category').map(lambda c: chr(65 + c), na_action=None)\n",
    "\n",
    "jscatter.plot(data=df, x='mass', y='speed')"
   ]
  },
  {
   "cell_type": "markdown",
   "metadata": {},
   "source": [
    "### Advanced example\n",
    "\n",
    "Often you want to customize the visual encoding, such as the point color, size, and opacity."
   ]
  },
  {
   "cell_type": "code",
   "execution_count": 7,
   "metadata": {},
   "outputs": [
    {
     "data": {
      "application/vnd.jupyter.widget-view+json": {
       "model_id": "b51e14182bba4168b6023b95f3acaeb7",
       "version_major": 2,
       "version_minor": 0
      },
      "text/plain": [
       "HBox(children=(VBox(children=(Button(button_style='primary', icon='arrows', layout=Layout(width='36px'), style…"
      ]
     },
     "metadata": {},
     "output_type": "display_data"
    }
   ],
   "source": [
    "jscatter.plot(\n",
    "  data=df,\n",
    "  x='mass',\n",
    "  y='speed',\n",
    "  size=8, # static encoding\n",
    "  color_by='group', # data-driven encoding\n",
    "  opacity_by='density', # view-driven encoding\n",
    ")"
   ]
  },
  {
   "cell_type": "markdown",
   "metadata": {},
   "source": [
    "In the above example, we chose a static point size of `8`. In contrast, the point color is data-driven and assigned based on the `group` value. The point opacity is view-driven and defined dynamically by the number of points currently visible in the view.\n",
    "\n",
    "Also notice how jscatter uses an appropriate color map by default based on the data type used for color encoding. In this examples, jscatter uses the color blindness safe color map from [Okabe and Ito](https://jfly.uni-koeln.de/color/#pallet) as the number of categories is less than `9`.\n",
    "\n",
    "You can of course customize the color map and many other parameters of the visual encoding as shown next.\n",
    "\n",
    "### Functional API example\n",
    "\n",
    "The flat API (from above), can get overwhelming when you want to customize a lot of properties. Therefore, jscatter provides a functional API that groups properties by type."
   ]
  },
  {
   "cell_type": "code",
   "execution_count": 10,
   "metadata": {},
   "outputs": [
    {
     "data": {
      "application/vnd.jupyter.widget-view+json": {
       "model_id": "48474ad380e148309531ca1b3a4c0cff",
       "version_major": 2,
       "version_minor": 0
      },
      "text/plain": [
       "HBox(children=(VBox(children=(Button(button_style='primary', icon='arrows', layout=Layout(width='36px'), style…"
      ]
     },
     "metadata": {},
     "output_type": "display_data"
    }
   ],
   "source": [
    "scatter = jscatter.Scatter(data=df, x='mass', y='speed')\n",
    "scatter.selection(df.query('mass < 0.5').index)\n",
    "scatter.color(by='mass', map='plasma', order='reverse')\n",
    "scatter.opacity(by='density')\n",
    "scatter.size(by='pval', map=[2, 4, 6, 8, 10])\n",
    "scatter.height(300)\n",
    "scatter.background('black')\n",
    "scatter.show()"
   ]
  },
  {
   "cell_type": "markdown",
   "metadata": {},
   "source": [
    "You can update properties interactively as well after having called `scatter.show()`. The plot will update automatically.\n",
    "\n",
    "Finally, all arguments are optional. If you specify an argument, the function will act as a setter and change the property. If you call a function without any arguments it will act as a getter and return the property (or properties). For example, `scatter.selection()` will return the _currently_ selected points."
   ]
  },
  {
   "cell_type": "code",
   "execution_count": 11,
   "metadata": {},
   "outputs": [
    {
     "data": {
      "text/plain": [
       "array([  0,   1,   2,   3,   5,   9,  10,  11,  12,  14,  17,  18,  19,\n",
       "        20,  21,  24,  31,  32,  34,  35,  38,  39,  40,  47,  48,  49,\n",
       "        50,  51,  52,  53,  54,  57,  58,  60,  65,  67,  68,  69,  72,\n",
       "        76,  79,  82,  85,  86,  87,  90,  95,  97,  98,  99, 103, 105,\n",
       "       106, 108, 111, 112, 118, 119, 120, 121, 124, 125, 126, 129, 130,\n",
       "       133, 136, 137, 140, 142, 143, 145, 147, 148, 149, 152, 153, 154,\n",
       "       159, 160, 162, 164, 170, 175, 178, 180, 181, 183, 185, 188, 192,\n",
       "       194, 195, 197, 198, 199, 200, 201, 202, 203, 204, 205, 206, 207,\n",
       "       208, 209, 214, 218, 221, 223, 225, 229, 230, 231, 234, 236, 237,\n",
       "       239, 240, 249, 251, 252, 258, 260, 263, 264, 265, 266, 267, 268,\n",
       "       269, 271, 272, 274, 276, 278, 280, 283, 284, 286, 289, 290, 291,\n",
       "       296, 299, 301, 304, 307, 309, 310, 311, 313, 315, 316, 318, 319,\n",
       "       322, 323, 328, 329, 331, 332, 337, 338, 342, 343, 345, 346, 347,\n",
       "       349, 350, 351, 355, 357, 358, 359, 360, 363, 364, 368, 369, 371,\n",
       "       372, 373, 375, 376, 378, 380, 381, 382, 383, 386, 387, 390, 391,\n",
       "       394, 396, 398, 399, 400, 401, 403, 404, 406, 407, 409, 412, 419,\n",
       "       421, 422, 424, 428, 429, 431, 432, 435, 436, 437, 439, 442, 446,\n",
       "       450, 451, 452, 460, 461, 462, 464, 472, 473, 477, 478, 479, 483,\n",
       "       490, 493, 496, 497, 498])"
      ]
     },
     "execution_count": 11,
     "metadata": {},
     "output_type": "execute_result"
    }
   ],
   "source": [
    "scatter.selection()"
   ]
  },
  {
   "cell_type": "markdown",
   "metadata": {},
   "source": [
    "### Interactivity\n",
    "\n",
    "The scatter plot is interactive! It supports pan-and-zoom, hover, click, and lasso interactions:\n",
    "\n",
    "- **Pan**: Click and drag your mouse.\n",
    "- **Zoom**: Scroll vertically.\n",
    "- **Select a single dot**: Click on a dot with your mouse.\n",
    "- **Select multiple dots**: While pressing <kbd>SHIFT</kbd>, click and drag your mouse. All items within the lasso will be selected.\n",
    "- **Deselect**: Double-click onto an empty region.\n",
    "- **Rotate**: While pressing <kbd>ALT</kbd>, click and drag your mouse.\n",
    "\n",
    "### Widget Properties\n",
    "\n",
    "You can adjust the scatter plot to your needs by adjusting the following properties:\n",
    "\n",
    "**Data:**\n",
    "\n",
    "- `points` [list]\n",
    "- `selected_points` [list]\n",
    "- `hovered_point` [int] (read only)\n",
    "\n",
    "**Camera:**\n",
    "\n",
    "- `camera_target` [tuple]\n",
    "- `camera_distance` [float]\n",
    "- `camera_rotation` [float]\n",
    "- `camera_view` [list]\n",
    "\n",
    "**Visual:**\n",
    "\n",
    "- `color_by` [None, 'category', or 'value']\n",
    "- `height` [int]\n",
    "- `background_color` [string|quadruple]\n",
    "- `background_image` [string]\n",
    "- `lasso_color` [string|quadruple]\n",
    "- `lasso_min_delay` [int]\n",
    "- `lasso_min_dist` [float]\n",
    "- `point_color` [string|quadruple]\n",
    "- `point_color_active` [string|quadruple]\n",
    "- `point_color_hover` [string|quadruple]\n",
    "- `point_opacity` [float]\n",
    "- `point_size` [int]\n",
    "- `point_size_selected` [int]\n",
    "- `point_outline_width` [int]\n",
    "- `show_recticle` [bool]\n",
    "- `recticle_color` [string|quadruple]"
   ]
  },
  {
   "cell_type": "markdown",
   "metadata": {},
   "source": [
    "## Select Points\n",
    "\n",
    "You can select points interactively using mouse click and lasso interactions as described above or you can programmatically select points. `scatterplot.selected_points` is a list of point indices. For example, to select the first 10 points we can do:"
   ]
  },
  {
   "cell_type": "code",
   "execution_count": null,
   "metadata": {},
   "outputs": [],
   "source": [
    "scatterplot.selected_points = list(range(12))"
   ]
  },
  {
   "cell_type": "markdown",
   "metadata": {},
   "source": [
    "For convenience we provide two widgets to display the selected point indices and the index of the hovered point."
   ]
  },
  {
   "cell_type": "code",
   "execution_count": null,
   "metadata": {},
   "outputs": [],
   "source": [
    "display(scatterplot.hovered_point_widget, scatterplot.selected_points_widget)"
   ]
  },
  {
   "cell_type": "code",
   "execution_count": null,
   "metadata": {},
   "outputs": [],
   "source": [
    "jscatter.plot()"
   ]
  }
 ],
 "metadata": {
  "kernelspec": {
   "display_name": "Python 3",
   "language": "python",
   "name": "python3"
  },
  "language_info": {
   "codemirror_mode": {
    "name": "ipython",
    "version": 3
   },
   "file_extension": ".py",
   "mimetype": "text/x-python",
   "name": "python",
   "nbconvert_exporter": "python",
   "pygments_lexer": "ipython3",
   "version": "3.9.1"
  }
 },
 "nbformat": 4,
 "nbformat_minor": 4
}
