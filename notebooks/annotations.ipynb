{
 "cells": [
  {
   "cell_type": "markdown",
   "id": "60d8190f-2372-42d9-8816-ba34bedb544c",
   "metadata": {},
   "source": [
    "# Annotations"
   ]
  },
  {
   "cell_type": "code",
   "execution_count": null,
   "id": "d5d03018-14f2-4a79-a296-340fbd8e296a",
   "metadata": {},
   "outputs": [],
   "source": [
    "%load_ext autoreload\n",
    "%autoreload 2\n",
    "%env ANYWIDGET_HMR=1"
   ]
  },
  {
   "cell_type": "code",
   "execution_count": null,
   "id": "3785ca6e-c2f8-45a9-afcf-d7284852ad9e",
   "metadata": {},
   "outputs": [],
   "source": [
    "import jscatter\n",
    "import numpy as np\n",
    "\n",
    "x1, y1 = np.random.normal(-1, 0.2, 1000), np.random.normal(+1, 0.05, 1000)\n",
    "x2, y2 = np.random.normal(+1, 0.2, 1000), np.random.normal(+1, 0.05, 1000)\n",
    "x3, y3 = np.random.normal(+1, 0.2, 1000), np.random.normal(-1, 0.05, 1000)\n",
    "x4, y4 = np.random.normal(-1, 0.2, 1000), np.random.normal(-1, 0.05, 1000)\n",
    "\n",
    "y0 = jscatter.HLine(0)\n",
    "x0 = jscatter.VLine(0)\n",
    "c1 = jscatter.Rect(x_start=-1.5, x_end=-0.5, y_start=+0.75, y_end=+1.25)\n",
    "c2 = jscatter.Rect(x_start=+0.5, x_end=+1.5, y_start=+0.75, y_end=+1.25)\n",
    "c3 = jscatter.Rect(x_start=+0.5, x_end=+1.5, y_start=-1.25, y_end=-0.75)\n",
    "c4 = jscatter.Rect(x_start=-1.5, x_end=-0.5, y_start=-1.25, y_end=-0.75)\n",
    "\n",
    "scatter = jscatter.Scatter(\n",
    "    x=np.concatenate((x1, x2, x3, x4)), x_scale=(-2, 2),\n",
    "    y=np.concatenate((y1, y2, y3, y4)), y_scale=(-2, 2),\n",
    "    annotations=[x0, y0, c1, c2, c3, c4],\n",
    "    width=400,\n",
    "    height=400,\n",
    ")\n",
    "scatter.show()"
   ]
  },
  {
   "cell_type": "code",
   "execution_count": null,
   "id": "7de74320-6941-4a26-9728-1ec870b6f477",
   "metadata": {},
   "outputs": [],
   "source": []
  }
 ],
 "metadata": {
  "kernelspec": {
   "display_name": "Python 3 (ipykernel)",
   "language": "python",
   "name": "python3"
  },
  "language_info": {
   "codemirror_mode": {
    "name": "ipython",
    "version": 3
   },
   "file_extension": ".py",
   "mimetype": "text/x-python",
   "name": "python",
   "nbconvert_exporter": "python",
   "pygments_lexer": "ipython3",
   "version": "3.12.3"
  }
 },
 "nbformat": 4,
 "nbformat_minor": 5
}
