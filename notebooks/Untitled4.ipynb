{
 "cells": [
  {
   "cell_type": "code",
   "execution_count": 1,
   "id": "c8d67f28-de9c-4cd4-b60b-c5bf92db023b",
   "metadata": {},
   "outputs": [
    {
     "name": "stdout",
     "output_type": "stream",
     "text": [
      "env: ANYWIDGET_HMR=1\n"
     ]
    }
   ],
   "source": [
    "%load_ext autoreload\n",
    "%autoreload 2\n",
    "%env ANYWIDGET_HMR=1"
   ]
  },
  {
   "cell_type": "code",
   "execution_count": 11,
   "id": "63452dc6-5726-4242-81a0-fc79b68e64a7",
   "metadata": {},
   "outputs": [
    {
     "data": {
      "application/vnd.jupyter.widget-view+json": {
       "model_id": "473f9edbd47840f5ab4720fc1abf3479",
       "version_major": 2,
       "version_minor": 0
      },
      "text/plain": [
       "HBox(children=(VBox(children=(Button(button_style='primary', icon='arrows', layout=Layout(width='36px'), style…"
      ]
     },
     "execution_count": 11,
     "metadata": {},
     "output_type": "execute_result"
    }
   ],
   "source": [
    "import jscatter\n",
    "import numpy as np\n",
    "import pandas as pd\n",
    "\n",
    "data1 = pd.DataFrame({\n",
    "    \"x\": np.random.rand(1000),\n",
    "    \"y\": np.random.rand(1000),\n",
    "    \"z\": ['a','b']*500,\n",
    "})\n",
    "scatter = jscatter.Scatter(data=data1, x=\"x\", y=\"y\", width=500, height=500)\n",
    "scatter.show()"
   ]
  },
  {
   "cell_type": "code",
   "execution_count": 12,
   "id": "3d052d61-79e7-4f7a-9839-92f8e34a5bbf",
   "metadata": {},
   "outputs": [
    {
     "data": {
      "text/plain": [
       "<jscatter.jscatter.Scatter at 0x12cc5d640>"
      ]
     },
     "execution_count": 12,
     "metadata": {},
     "output_type": "execute_result"
    }
   ],
   "source": [
    "scatter.tooltip(True, properties = ['x','y', 'z']) "
   ]
  },
  {
   "cell_type": "code",
   "execution_count": 16,
   "id": "3b01ac2a-c9bf-48cc-bb8e-34a646528db3",
   "metadata": {},
   "outputs": [
    {
     "data": {
      "text/plain": [
       "False"
      ]
     },
     "execution_count": 16,
     "metadata": {},
     "output_type": "execute_result"
    }
   ],
   "source": [
    "pd.StringDtype.is_dtype(pd.Series(['a', 'b']))"
   ]
  },
  {
   "cell_type": "code",
   "execution_count": 17,
   "id": "c8d03133-e4e2-43ad-9292-6ea39dcb3bfb",
   "metadata": {},
   "outputs": [
    {
     "data": {
      "text/plain": [
       "True"
      ]
     },
     "execution_count": 17,
     "metadata": {},
     "output_type": "execute_result"
    }
   ],
   "source": [
    "pd.api.types.is_string_dtype(pd.Series(['a', 'b']))"
   ]
  },
  {
   "cell_type": "code",
   "execution_count": null,
   "id": "069b99ef-74f9-401e-b26e-851589f0328a",
   "metadata": {},
   "outputs": [],
   "source": []
  }
 ],
 "metadata": {
  "kernelspec": {
   "display_name": "Python 3 (ipykernel)",
   "language": "python",
   "name": "python3"
  },
  "language_info": {
   "codemirror_mode": {
    "name": "ipython",
    "version": 3
   },
   "file_extension": ".py",
   "mimetype": "text/x-python",
   "name": "python",
   "nbconvert_exporter": "python",
   "pygments_lexer": "ipython3",
   "version": "3.12.3"
  }
 },
 "nbformat": 4,
 "nbformat_minor": 5
}
