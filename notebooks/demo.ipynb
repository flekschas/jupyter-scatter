{
 "cells": [
  {
   "cell_type": "markdown",
   "metadata": {},
   "source": [
    "# Welcome to Jupyter Scatter 👋\n",
    "\n",
    "In this notebook, we're going over the basic to get you started quickly!\n",
    "\n",
    "## The Very Basics\n",
    "\n",
    "All you need to get going is a dataset with at least two variables. For instance, to visualize cities by their longitude/latitude (according to [GeoNames](https://geonames.org)) and color-code them by continent, we create a `Scatter` instance as follows."
   ]
  },
  {
   "cell_type": "code",
   "execution_count": null,
   "metadata": {},
   "outputs": [],
   "source": [
    "import jscatter\n",
    "import pandas as pd\n",
    "\n",
    "geonames = pd.read_parquet('https://paper.jupyter-scatter.dev/geonames.pq')\n",
    "scatter = jscatter.Scatter(\n",
    "    data=geonames,\n",
    "    x='Longitude',\n",
    "    y='Latitude',\n",
    "    color_by='Continent',\n",
    "    height=360,\n",
    ")\n",
    "\n",
    "scatter.show()"
   ]
  },
  {
   "cell_type": "markdown",
   "metadata": {},
   "source": [
    "Jupyter Scatter offers many ways to customize the plot via topic-specific methods. For instance, in the following we adjust the point opacity, size, and color."
   ]
  },
  {
   "cell_type": "code",
   "execution_count": null,
   "metadata": {},
   "outputs": [],
   "source": [
    "from matplotlib.colors import AsinhNorm, LogNorm\n",
    "\n",
    "scatter.opacity(0.5)\n",
    "scatter.size(by='Population', map=(1, 8, 10), norm=AsinhNorm())\n",
    "scatter.color(by='Population', map='magma', norm=LogNorm(), order='reverse')"
   ]
  },
  {
   "cell_type": "markdown",
   "metadata": {},
   "source": [
    "To aid interpretation of individual points and point clusters, Jupyter Scatter includes legends, axis labels, and tooltips."
   ]
  },
  {
   "cell_type": "code",
   "execution_count": null,
   "metadata": {},
   "outputs": [],
   "source": [
    "scatter.legend(True)\n",
    "scatter.axes(True, labels=True)\n",
    "scatter.tooltip(True, properties=['color', 'Latitude', 'Country'], preview='Name')"
   ]
  },
  {
   "cell_type": "markdown",
   "metadata": {},
   "source": [
    "Exploring a scatterplot often involves studying subsets of the points. To select points, one can either long press and lasso-select points interactively or query-select points programmatically. Here we select all cities with a population greater than ten million."
   ]
  },
  {
   "cell_type": "code",
   "execution_count": null,
   "metadata": {},
   "outputs": [],
   "source": [
    "scatter.selection(geonames.query('Population > 10_000_000').index)"
   ]
  },
  {
   "cell_type": "markdown",
   "metadata": {},
   "source": [
    "The selection works both ways. I.e., to retrieved the indices of selected points use `scatter.selection()`. We can use these indices to get back the related data records."
   ]
  },
  {
   "cell_type": "code",
   "execution_count": null,
   "metadata": {},
   "outputs": [],
   "source": [
    "geonames.iloc[scatter.selection()]"
   ]
  },
  {
   "cell_type": "markdown",
   "metadata": {},
   "source": [
    "## Integration with Jupyter Widgets\n",
    "\n",
    "Since Jupyter Scatter builds upon Traitlets, you can easily integrate it with other Jupyter Widgets by observing changes.\n",
    "\n",
    "For instance, the following example shows how we can link a [UMAP](https://umap-learn.readthedocs.io/en/latest/) embedding scatterplot of the [Fashion\n",
    "MNIST](https://github.com/zalandoresearch/fashion-mnist) dataset where points represent images to an widget showing the actual images of selected point.\n",
    "\n",
    "First we're going to create a `Scatter` instance as before."
   ]
  },
  {
   "cell_type": "code",
   "execution_count": null,
   "metadata": {},
   "outputs": [],
   "source": [
    "import jscatter\n",
    "\n",
    "fashion_mnist = pd.read_parquet(\n",
    "    'https://paper.jupyter-scatter.dev/fashion-mnist-embeddings.pq'\n",
    ")\n",
    "\n",
    "scatter = jscatter.Scatter(\n",
    "    data=fashion_mnist,\n",
    "    x='umapX',\n",
    "    y='umapY',\n",
    "    color_by='class',\n",
    "    background_color='black',\n",
    "    axes=False,\n",
    "    height=480,\n",
    ")"
   ]
  },
  {
   "cell_type": "markdown",
   "metadata": {},
   "source": [
    "Next, we're creating a widget for displaying images in a grid. Don't worry about the details of this image widget here."
   ]
  },
  {
   "cell_type": "code",
   "execution_count": null,
   "metadata": {},
   "outputs": [],
   "source": [
    "import anywidget\n",
    "import traitlets\n",
    "import traittypes\n",
    "\n",
    "\n",
    "class ImagesWidget(anywidget.AnyWidget):\n",
    "    _esm = \"\"\"\n",
    "    const baseUrl = 'https://paper.jupyter-scatter.dev/fashion-mnist-images/';\n",
    "    \n",
    "    function render({ model, el }) {\n",
    "      const container = document.createElement('div');\n",
    "      container.classList.add('images-container');\n",
    "      el.appendChild(container);\n",
    "\n",
    "      const grid = document.createElement('div');\n",
    "      grid.classList.add('images-grid');\n",
    "      container.appendChild(grid);\n",
    "\n",
    "      function renderImages() {\n",
    "        grid.textContent = '';\n",
    "        \n",
    "        model.get('images').forEach((image) => {\n",
    "          const imgId = String(image).padStart(5, '0');\n",
    "        \n",
    "          const img = document.createElement('div');\n",
    "          img.classList.add('images-fashion-mnist');\n",
    "          img.style.backgroundImage = `url(${baseUrl}${imgId}.png)`;\n",
    "        \n",
    "          grid.appendChild(img);\n",
    "        });\n",
    "      }\n",
    "\n",
    "      model.on(\"change:images\", renderImages);\n",
    "      \n",
    "      renderImages();\n",
    "    }\n",
    "\n",
    "    export default { render };\n",
    "    \"\"\"\n",
    "\n",
    "    _css = \"\"\"\n",
    "    .images-container {\n",
    "      position: absolute;\n",
    "      inset: 0;\n",
    "      overflow: auto;\n",
    "      background: black;\n",
    "    }\n",
    "    \n",
    "    .images-grid {\n",
    "      display: grid;\n",
    "      grid-template-columns: repeat(auto-fit, minmax(32px, 1fr));\n",
    "      align-content: flex-start;\n",
    "      gap: 8px;\n",
    "    }\n",
    "    \n",
    "    .images-fashion-mnist {\n",
    "      width: 32px;\n",
    "      height: 32px;\n",
    "      background-repeat: no-repeat;\n",
    "      background-position: center;\n",
    "    }\n",
    "    \"\"\"\n",
    "\n",
    "    images = traittypes.Array(default_value=[]).tag(sync=True)\n",
    "\n",
    "\n",
    "images = ImagesWidget()"
   ]
  },
  {
   "cell_type": "markdown",
   "metadata": {},
   "source": [
    "And finally, to link the point selection of our scatter to the image widget, all we have to do is to observe the scatter widget's `selection` property for changes."
   ]
  },
  {
   "cell_type": "code",
   "execution_count": null,
   "metadata": {},
   "outputs": [],
   "source": [
    "import ipywidgets\n",
    "\n",
    "\n",
    "def selection_change_handler(change):\n",
    "    images.images = change['new']\n",
    "\n",
    "\n",
    "scatter.widget.observe(selection_change_handler, names=['selection'])\n",
    "\n",
    "ipywidgets.AppLayout(center=scatter.show(), right_sidebar=images)"
   ]
  },
  {
   "cell_type": "markdown",
   "metadata": {},
   "source": [
    "Try selected some points to see what images they represent!"
   ]
  },
  {
   "cell_type": "code",
   "execution_count": null,
   "metadata": {},
   "outputs": [],
   "source": [
    "# fmt: off\n",
    "scatter.selection([\n",
    "    1254,  52549, 47543, 11095, 34364, 36959, 11363,  9277, 23068,\n",
    "    8921,  54801, 46398, 51721, 20057, 50162,   572, 59831, 43542,\n",
    "    13883, 21882, 27737,  3578, 21036, 35325,  6552, 44735, 29358,\n",
    "    46910,  4645, 28069, 25871, 44880,  7053, 25587, 54431, 43876,\n",
    "    19916, 20364, 26526, 39428, 52338, 15187, 15646, 41574, 33875,\n",
    "    3613,  58362, 26254,  1274,  9648, 27629, 32981, 47433, 25390,\n",
    "    15293,  9619,   872, 20886, 57006, 42770, 41476, 54424, 34547,\n",
    "    6570,   5556, 36400, 14179, 16730, 15361,  5192, 58429, 59357,\n",
    "    2789,  30767, 46375, 45233, 32280, 58065, 20809, 17061, 27960,\n",
    "])\n",
    "# fmt: on"
   ]
  },
  {
   "cell_type": "markdown",
   "metadata": {},
   "source": [
    "## Composing Multiple Scatter Plots\n",
    "\n",
    "Visualizing two or more related scatter plots can be useful comparing datasets. Jupyter Scatter makes this easy with synchronized hover, view, and point selections via its `compose` method.\n",
    "\n",
    "For instance, in the following, we compose a two-by-two grid of four embeddings of the same [Fashion MNIST](https://github.com/zalandoresearch/fashion-mnist) dataset from before: [PCA](https://scikit-learn.org/stable/modules/generated/sklearn.decomposition.PCA.html#sklearn.decomposition.PCA), [UMAP](https://umap-learn.readthedocs.io/en/latest/), [t-SNE](https://scikit-learn.org/stable/modules/generated/sklearn.manifold.TSNE.html), and a convolutional autoencoder."
   ]
  },
  {
   "cell_type": "code",
   "execution_count": null,
   "metadata": {},
   "outputs": [],
   "source": [
    "config = dict(\n",
    "    data=fashion_mnist,\n",
    "    color_by='class',\n",
    "    legend=True,\n",
    "    axes=False,\n",
    "    zoom_on_selection=True,\n",
    ")\n",
    "\n",
    "pca = jscatter.Scatter(x='pcaX', y='pcaY', **config)\n",
    "tsne = jscatter.Scatter(x='tsneX', y='tsneY', **config)\n",
    "umap = jscatter.Scatter(x='umapX', y='umapY', **config)\n",
    "cae = jscatter.Scatter(x='caeX', y='caeY', **config)\n",
    "\n",
    "jscatter.compose(\n",
    "    [(pca, 'PCA'), (tsne, 't-SNE'), (umap, 'UMAP'), (cae, 'CAE')],\n",
    "    sync_selection=True,\n",
    "    sync_hover=True,\n",
    "    rows=2,\n",
    ")"
   ]
  },
  {
   "cell_type": "markdown",
   "metadata": {},
   "source": [
    "### Next\n",
    "\n",
    "If you like what you saw and you want to learn more, go to https://jupyter-scatter.dev for more guides and API docs. For a full-blown tutorial, check out https://github.com/flekschas/jupyter-scatter-tutorial that I initially presented at [SciPy '23 talk](https://www.youtube.com/watch?v=RyC5ixtQG-Q).\n",
    "\n",
    "If you have ideas for improving Jupyter Scatter, found a bug, or want to give us a ⭐️, head over to https://github.com/flekschas/jupyter-scatter."
   ]
  },
  {
   "cell_type": "code",
   "execution_count": null,
   "metadata": {},
   "outputs": [],
   "source": []
  }
 ],
 "metadata": {
  "kernelspec": {
   "display_name": "Python 3 (ipykernel)",
   "language": "python",
   "name": "python3"
  },
  "language_info": {
   "codemirror_mode": {
    "name": "ipython",
    "version": 3
   },
   "file_extension": ".py",
   "mimetype": "text/x-python",
   "name": "python",
   "nbconvert_exporter": "python",
   "pygments_lexer": "ipython3",
   "version": "3.12.7"
  }
 },
 "nbformat": 4,
 "nbformat_minor": 4
}
